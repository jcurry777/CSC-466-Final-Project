{
  "nbformat": 4,
  "nbformat_minor": 0,
  "metadata": {
    "colab": {
      "provenance": []
    },
    "kernelspec": {
      "name": "python3",
      "display_name": "Python 3"
    },
    "language_info": {
      "name": "python"
    }
  },
  "cells": [
    {
      "cell_type": "markdown",
      "source": [
        "***By: Jacob Curry and Gabriel Rodriguez***"
      ],
      "metadata": {
        "id": "dkY68kxvxnUx"
      }
    },
    {
      "cell_type": "markdown",
      "source": [
        "**Setup:**"
      ],
      "metadata": {
        "id": "SMZjisn0Uvqb"
      }
    },
    {
      "cell_type": "code",
      "source": [
        "from google.colab import drive\n",
        "drive.mount('/content/drive')"
      ],
      "metadata": {
        "colab": {
          "base_uri": "https://localhost:8080/"
        },
        "id": "KYZqv0JziUSr",
        "outputId": "558531dd-e8b8-4a20-da24-db57ea4e68e1"
      },
      "execution_count": null,
      "outputs": [
        {
          "output_type": "stream",
          "name": "stdout",
          "text": [
            "Drive already mounted at /content/drive; to attempt to forcibly remount, call drive.mount(\"/content/drive\", force_remount=True).\n"
          ]
        }
      ]
    },
    {
      "cell_type": "code",
      "source": [
        "import pandas as pd\n",
        "import numpy as np\n",
        "\n",
        "from sklearn.model_selection import GridSearchCV\n",
        "import matplotlib.pyplot as plt\n",
        "\n",
        "from sklearn.metrics import confusion_matrix\n",
        "from sklearn.metrics import accuracy_score\n",
        "from sklearn.metrics import mean_squared_error\n",
        "\n",
        "import copy\n",
        "from copy import deepcopy\n",
        "\n",
        "import random\n",
        "random.seed(17)"
      ],
      "metadata": {
        "id": "9fkbZtpSiu2i"
      },
      "execution_count": null,
      "outputs": []
    },
    {
      "cell_type": "code",
      "source": [
        "df = pd.read_csv('/content/drive/MyDrive/CSC 466 Final Project/final_df.csv')"
      ],
      "metadata": {
        "id": "HvGIk6OhoxfQ"
      },
      "execution_count": null,
      "outputs": []
    },
    {
      "cell_type": "markdown",
      "source": [
        "**Pre-Processing:**"
      ],
      "metadata": {
        "id": "P_qiOljwU2ra"
      }
    },
    {
      "cell_type": "code",
      "source": [
        "# Start of new df\n",
        "###### DO NOT RUN THIS BLOCK OF CODE MORE THAN ONCE PER ENVIRONMENT!!!!!!\n",
        "\n",
        "months = [\"Jan\",\"Feb\",\"Mar\",\"Apr\",\"May\",\"Jun\",\"Jul\",\"Aug\",\"Sep\",\"Oct\",\"Nov\",\"Dec\"] \n",
        "counter = 1\n",
        "for i,j in enumerate(df[\"Year\"]):  #index, value\n",
        "  if counter == 1:\n",
        "    df[\"Year\"][i] = str(j) + months[counter-1]\n",
        "    counter +=1\n",
        "  elif counter == 2:\n",
        "    df[\"Year\"][i] = str(j) + months[counter-1]\n",
        "    counter +=1\n",
        "  elif counter == 3:\n",
        "    df[\"Year\"][i] = str(j) + months[counter-1]\n",
        "    counter +=1\n",
        "  elif counter == 4:\n",
        "    df[\"Year\"][i] = str(j) + months[counter-1]\n",
        "    counter +=1\n",
        "  elif counter == 5:\n",
        "    df[\"Year\"][i] = str(j) + months[counter-1]\n",
        "    counter +=1\n",
        "  elif counter == 6:\n",
        "    df[\"Year\"][i] = str(j) + months[counter-1]\n",
        "    counter +=1\n",
        "  elif counter == 7:\n",
        "    df[\"Year\"][i] = str(j) + months[counter-1]\n",
        "    counter +=1\n",
        "  elif counter == 8:\n",
        "    df[\"Year\"][i] = str(j) + months[counter-1]\n",
        "    counter +=1\n",
        "  elif counter == 9:\n",
        "    df[\"Year\"][i] = str(j) + months[counter-1]\n",
        "    counter +=1\n",
        "  elif counter == 10:\n",
        "    df[\"Year\"][i] = str(j) + months[counter-1]\n",
        "    counter +=1\n",
        "  elif counter == 11:\n",
        "    df[\"Year\"][i] = str(j) + months[counter-1]\n",
        "    counter +=1\n",
        "  elif counter == 12:\n",
        "    df[\"Year\"][i] = str(j) + months[counter-1]\n",
        "    counter = 1\n"
      ],
      "metadata": {
        "id": "RCS5T9Suo4-3",
        "colab": {
          "base_uri": "https://localhost:8080/"
        },
        "outputId": "38224e8e-2cb4-467a-c590-24491b148af6"
      },
      "execution_count": null,
      "outputs": [
        {
          "output_type": "stream",
          "name": "stderr",
          "text": [
            "<ipython-input-4-46ae5ed33bec>:8: SettingWithCopyWarning: \n",
            "A value is trying to be set on a copy of a slice from a DataFrame\n",
            "\n",
            "See the caveats in the documentation: https://pandas.pydata.org/pandas-docs/stable/user_guide/indexing.html#returning-a-view-versus-a-copy\n",
            "  df[\"Year\"][i] = str(j) + months[counter-1]\n",
            "/usr/local/lib/python3.8/dist-packages/pandas/core/indexing.py:1732: SettingWithCopyWarning: \n",
            "A value is trying to be set on a copy of a slice from a DataFrame\n",
            "\n",
            "See the caveats in the documentation: https://pandas.pydata.org/pandas-docs/stable/user_guide/indexing.html#returning-a-view-versus-a-copy\n",
            "  self._setitem_single_block(indexer, value, name)\n"
          ]
        }
      ]
    },
    {
      "cell_type": "code",
      "source": [
        "# Reformatting Index\n",
        "\n",
        "dfs = df.set_index(\"Year\")\n",
        "fin_df = dfs.drop(\"Month\", axis = 1)\n",
        "fin_df"
      ],
      "metadata": {
        "colab": {
          "base_uri": "https://localhost:8080/",
          "height": 455
        },
        "id": "cbQd923Ap_3G",
        "outputId": "0b56301a-002d-4f35-d5f6-e853dd73d99e"
      },
      "execution_count": null,
      "outputs": [
        {
          "output_type": "execute_result",
          "data": {
            "text/plain": [
              "         EffectiveFederalFundsRate  RealGDP   UnemploymentRate  InflationRate  \\\n",
              "Year                                                                            \n",
              "1973Jan                       5.94      10.2               4.9           2.80   \n",
              "1973Feb                       6.58      10.2               5.0           2.80   \n",
              "1973Mar                       7.09      10.2               4.9           3.00   \n",
              "1973Apr                       7.12       4.6               5.0           3.20   \n",
              "1973May                       7.84       4.6               4.9           3.20   \n",
              "...                            ...       ...               ...            ...   \n",
              "2022Jun                       1.58      -0.6               3.6           9.06   \n",
              "2022Jul                       2.32       2.6               3.5           8.52   \n",
              "2022Aug                       2.33       2.6               3.7           8.26   \n",
              "2022Sep                       3.08       2.6               3.5           8.20   \n",
              "2022Oct                       3.08       2.6               3.5           7.75   \n",
              "\n",
              "         CorePCE  \n",
              "Year              \n",
              "1973Jan   2.6800  \n",
              "1973Feb   2.7300  \n",
              "1973Mar   2.9400  \n",
              "1973Apr   3.2900  \n",
              "1973May   3.4500  \n",
              "...          ...  \n",
              "2022Jun   0.0488  \n",
              "2022Jul   0.0504  \n",
              "2022Aug   0.0467  \n",
              "2022Sep   0.0489  \n",
              "2022Oct   0.0515  \n",
              "\n",
              "[598 rows x 5 columns]"
            ],
            "text/html": [
              "\n",
              "  <div id=\"df-1551c0b2-8e8b-4010-a99d-90ee50e8fdf4\">\n",
              "    <div class=\"colab-df-container\">\n",
              "      <div>\n",
              "<style scoped>\n",
              "    .dataframe tbody tr th:only-of-type {\n",
              "        vertical-align: middle;\n",
              "    }\n",
              "\n",
              "    .dataframe tbody tr th {\n",
              "        vertical-align: top;\n",
              "    }\n",
              "\n",
              "    .dataframe thead th {\n",
              "        text-align: right;\n",
              "    }\n",
              "</style>\n",
              "<table border=\"1\" class=\"dataframe\">\n",
              "  <thead>\n",
              "    <tr style=\"text-align: right;\">\n",
              "      <th></th>\n",
              "      <th>EffectiveFederalFundsRate</th>\n",
              "      <th>RealGDP</th>\n",
              "      <th>UnemploymentRate</th>\n",
              "      <th>InflationRate</th>\n",
              "      <th>CorePCE</th>\n",
              "    </tr>\n",
              "    <tr>\n",
              "      <th>Year</th>\n",
              "      <th></th>\n",
              "      <th></th>\n",
              "      <th></th>\n",
              "      <th></th>\n",
              "      <th></th>\n",
              "    </tr>\n",
              "  </thead>\n",
              "  <tbody>\n",
              "    <tr>\n",
              "      <th>1973Jan</th>\n",
              "      <td>5.94</td>\n",
              "      <td>10.2</td>\n",
              "      <td>4.9</td>\n",
              "      <td>2.80</td>\n",
              "      <td>2.6800</td>\n",
              "    </tr>\n",
              "    <tr>\n",
              "      <th>1973Feb</th>\n",
              "      <td>6.58</td>\n",
              "      <td>10.2</td>\n",
              "      <td>5.0</td>\n",
              "      <td>2.80</td>\n",
              "      <td>2.7300</td>\n",
              "    </tr>\n",
              "    <tr>\n",
              "      <th>1973Mar</th>\n",
              "      <td>7.09</td>\n",
              "      <td>10.2</td>\n",
              "      <td>4.9</td>\n",
              "      <td>3.00</td>\n",
              "      <td>2.9400</td>\n",
              "    </tr>\n",
              "    <tr>\n",
              "      <th>1973Apr</th>\n",
              "      <td>7.12</td>\n",
              "      <td>4.6</td>\n",
              "      <td>5.0</td>\n",
              "      <td>3.20</td>\n",
              "      <td>3.2900</td>\n",
              "    </tr>\n",
              "    <tr>\n",
              "      <th>1973May</th>\n",
              "      <td>7.84</td>\n",
              "      <td>4.6</td>\n",
              "      <td>4.9</td>\n",
              "      <td>3.20</td>\n",
              "      <td>3.4500</td>\n",
              "    </tr>\n",
              "    <tr>\n",
              "      <th>...</th>\n",
              "      <td>...</td>\n",
              "      <td>...</td>\n",
              "      <td>...</td>\n",
              "      <td>...</td>\n",
              "      <td>...</td>\n",
              "    </tr>\n",
              "    <tr>\n",
              "      <th>2022Jun</th>\n",
              "      <td>1.58</td>\n",
              "      <td>-0.6</td>\n",
              "      <td>3.6</td>\n",
              "      <td>9.06</td>\n",
              "      <td>0.0488</td>\n",
              "    </tr>\n",
              "    <tr>\n",
              "      <th>2022Jul</th>\n",
              "      <td>2.32</td>\n",
              "      <td>2.6</td>\n",
              "      <td>3.5</td>\n",
              "      <td>8.52</td>\n",
              "      <td>0.0504</td>\n",
              "    </tr>\n",
              "    <tr>\n",
              "      <th>2022Aug</th>\n",
              "      <td>2.33</td>\n",
              "      <td>2.6</td>\n",
              "      <td>3.7</td>\n",
              "      <td>8.26</td>\n",
              "      <td>0.0467</td>\n",
              "    </tr>\n",
              "    <tr>\n",
              "      <th>2022Sep</th>\n",
              "      <td>3.08</td>\n",
              "      <td>2.6</td>\n",
              "      <td>3.5</td>\n",
              "      <td>8.20</td>\n",
              "      <td>0.0489</td>\n",
              "    </tr>\n",
              "    <tr>\n",
              "      <th>2022Oct</th>\n",
              "      <td>3.08</td>\n",
              "      <td>2.6</td>\n",
              "      <td>3.5</td>\n",
              "      <td>7.75</td>\n",
              "      <td>0.0515</td>\n",
              "    </tr>\n",
              "  </tbody>\n",
              "</table>\n",
              "<p>598 rows × 5 columns</p>\n",
              "</div>\n",
              "      <button class=\"colab-df-convert\" onclick=\"convertToInteractive('df-1551c0b2-8e8b-4010-a99d-90ee50e8fdf4')\"\n",
              "              title=\"Convert this dataframe to an interactive table.\"\n",
              "              style=\"display:none;\">\n",
              "        \n",
              "  <svg xmlns=\"http://www.w3.org/2000/svg\" height=\"24px\"viewBox=\"0 0 24 24\"\n",
              "       width=\"24px\">\n",
              "    <path d=\"M0 0h24v24H0V0z\" fill=\"none\"/>\n",
              "    <path d=\"M18.56 5.44l.94 2.06.94-2.06 2.06-.94-2.06-.94-.94-2.06-.94 2.06-2.06.94zm-11 1L8.5 8.5l.94-2.06 2.06-.94-2.06-.94L8.5 2.5l-.94 2.06-2.06.94zm10 10l.94 2.06.94-2.06 2.06-.94-2.06-.94-.94-2.06-.94 2.06-2.06.94z\"/><path d=\"M17.41 7.96l-1.37-1.37c-.4-.4-.92-.59-1.43-.59-.52 0-1.04.2-1.43.59L10.3 9.45l-7.72 7.72c-.78.78-.78 2.05 0 2.83L4 21.41c.39.39.9.59 1.41.59.51 0 1.02-.2 1.41-.59l7.78-7.78 2.81-2.81c.8-.78.8-2.07 0-2.86zM5.41 20L4 18.59l7.72-7.72 1.47 1.35L5.41 20z\"/>\n",
              "  </svg>\n",
              "      </button>\n",
              "      \n",
              "  <style>\n",
              "    .colab-df-container {\n",
              "      display:flex;\n",
              "      flex-wrap:wrap;\n",
              "      gap: 12px;\n",
              "    }\n",
              "\n",
              "    .colab-df-convert {\n",
              "      background-color: #E8F0FE;\n",
              "      border: none;\n",
              "      border-radius: 50%;\n",
              "      cursor: pointer;\n",
              "      display: none;\n",
              "      fill: #1967D2;\n",
              "      height: 32px;\n",
              "      padding: 0 0 0 0;\n",
              "      width: 32px;\n",
              "    }\n",
              "\n",
              "    .colab-df-convert:hover {\n",
              "      background-color: #E2EBFA;\n",
              "      box-shadow: 0px 1px 2px rgba(60, 64, 67, 0.3), 0px 1px 3px 1px rgba(60, 64, 67, 0.15);\n",
              "      fill: #174EA6;\n",
              "    }\n",
              "\n",
              "    [theme=dark] .colab-df-convert {\n",
              "      background-color: #3B4455;\n",
              "      fill: #D2E3FC;\n",
              "    }\n",
              "\n",
              "    [theme=dark] .colab-df-convert:hover {\n",
              "      background-color: #434B5C;\n",
              "      box-shadow: 0px 1px 3px 1px rgba(0, 0, 0, 0.15);\n",
              "      filter: drop-shadow(0px 1px 2px rgba(0, 0, 0, 0.3));\n",
              "      fill: #FFFFFF;\n",
              "    }\n",
              "  </style>\n",
              "\n",
              "      <script>\n",
              "        const buttonEl =\n",
              "          document.querySelector('#df-1551c0b2-8e8b-4010-a99d-90ee50e8fdf4 button.colab-df-convert');\n",
              "        buttonEl.style.display =\n",
              "          google.colab.kernel.accessAllowed ? 'block' : 'none';\n",
              "\n",
              "        async function convertToInteractive(key) {\n",
              "          const element = document.querySelector('#df-1551c0b2-8e8b-4010-a99d-90ee50e8fdf4');\n",
              "          const dataTable =\n",
              "            await google.colab.kernel.invokeFunction('convertToInteractive',\n",
              "                                                     [key], {});\n",
              "          if (!dataTable) return;\n",
              "\n",
              "          const docLinkHtml = 'Like what you see? Visit the ' +\n",
              "            '<a target=\"_blank\" href=https://colab.research.google.com/notebooks/data_table.ipynb>data table notebook</a>'\n",
              "            + ' to learn more about interactive tables.';\n",
              "          element.innerHTML = '';\n",
              "          dataTable['output_type'] = 'display_data';\n",
              "          await google.colab.output.renderOutput(dataTable, element);\n",
              "          const docLink = document.createElement('div');\n",
              "          docLink.innerHTML = docLinkHtml;\n",
              "          element.appendChild(docLink);\n",
              "        }\n",
              "      </script>\n",
              "    </div>\n",
              "  </div>\n",
              "  "
            ]
          },
          "metadata": {},
          "execution_count": 5
        }
      ]
    },
    {
      "cell_type": "code",
      "source": [
        "# Fixing the \"CorePCE\" values\n",
        "###### DO NOT RUN THIS BLOCK OF CODE MORE THAN ONCE PER ENVIRONMENT!!!!!!\n",
        "\n",
        "for i,j in enumerate(fin_df[\"CorePCE\"]): #index, value \n",
        "  if j > 1:\n",
        "    continue \n",
        "  elif j< 1:\n",
        "    fin_df[\"CorePCE\"][i] = j * 100 \n",
        "    "
      ],
      "metadata": {
        "id": "jWoAWCXZsD7N"
      },
      "execution_count": null,
      "outputs": []
    },
    {
      "cell_type": "code",
      "source": [
        "# Note that the Target variable is \"EffectiveFederalFundsRate\"\n",
        "fin_df"
      ],
      "metadata": {
        "colab": {
          "base_uri": "https://localhost:8080/",
          "height": 455
        },
        "id": "zSOj53TlsaI1",
        "outputId": "5544f6a7-8570-4439-fd86-cbef245d512f"
      },
      "execution_count": null,
      "outputs": [
        {
          "output_type": "execute_result",
          "data": {
            "text/plain": [
              "         EffectiveFederalFundsRate  RealGDP   UnemploymentRate  InflationRate  \\\n",
              "Year                                                                            \n",
              "1973Jan                       5.94      10.2               4.9           2.80   \n",
              "1973Feb                       6.58      10.2               5.0           2.80   \n",
              "1973Mar                       7.09      10.2               4.9           3.00   \n",
              "1973Apr                       7.12       4.6               5.0           3.20   \n",
              "1973May                       7.84       4.6               4.9           3.20   \n",
              "...                            ...       ...               ...            ...   \n",
              "2022Jun                       1.58      -0.6               3.6           9.06   \n",
              "2022Jul                       2.32       2.6               3.5           8.52   \n",
              "2022Aug                       2.33       2.6               3.7           8.26   \n",
              "2022Sep                       3.08       2.6               3.5           8.20   \n",
              "2022Oct                       3.08       2.6               3.5           7.75   \n",
              "\n",
              "         CorePCE  \n",
              "Year              \n",
              "1973Jan     2.68  \n",
              "1973Feb     2.73  \n",
              "1973Mar     2.94  \n",
              "1973Apr     3.29  \n",
              "1973May     3.45  \n",
              "...          ...  \n",
              "2022Jun     4.88  \n",
              "2022Jul     5.04  \n",
              "2022Aug     4.67  \n",
              "2022Sep     4.89  \n",
              "2022Oct     5.15  \n",
              "\n",
              "[598 rows x 5 columns]"
            ],
            "text/html": [
              "\n",
              "  <div id=\"df-9498de8d-cf77-4a94-ac46-310185363a70\">\n",
              "    <div class=\"colab-df-container\">\n",
              "      <div>\n",
              "<style scoped>\n",
              "    .dataframe tbody tr th:only-of-type {\n",
              "        vertical-align: middle;\n",
              "    }\n",
              "\n",
              "    .dataframe tbody tr th {\n",
              "        vertical-align: top;\n",
              "    }\n",
              "\n",
              "    .dataframe thead th {\n",
              "        text-align: right;\n",
              "    }\n",
              "</style>\n",
              "<table border=\"1\" class=\"dataframe\">\n",
              "  <thead>\n",
              "    <tr style=\"text-align: right;\">\n",
              "      <th></th>\n",
              "      <th>EffectiveFederalFundsRate</th>\n",
              "      <th>RealGDP</th>\n",
              "      <th>UnemploymentRate</th>\n",
              "      <th>InflationRate</th>\n",
              "      <th>CorePCE</th>\n",
              "    </tr>\n",
              "    <tr>\n",
              "      <th>Year</th>\n",
              "      <th></th>\n",
              "      <th></th>\n",
              "      <th></th>\n",
              "      <th></th>\n",
              "      <th></th>\n",
              "    </tr>\n",
              "  </thead>\n",
              "  <tbody>\n",
              "    <tr>\n",
              "      <th>1973Jan</th>\n",
              "      <td>5.94</td>\n",
              "      <td>10.2</td>\n",
              "      <td>4.9</td>\n",
              "      <td>2.80</td>\n",
              "      <td>2.68</td>\n",
              "    </tr>\n",
              "    <tr>\n",
              "      <th>1973Feb</th>\n",
              "      <td>6.58</td>\n",
              "      <td>10.2</td>\n",
              "      <td>5.0</td>\n",
              "      <td>2.80</td>\n",
              "      <td>2.73</td>\n",
              "    </tr>\n",
              "    <tr>\n",
              "      <th>1973Mar</th>\n",
              "      <td>7.09</td>\n",
              "      <td>10.2</td>\n",
              "      <td>4.9</td>\n",
              "      <td>3.00</td>\n",
              "      <td>2.94</td>\n",
              "    </tr>\n",
              "    <tr>\n",
              "      <th>1973Apr</th>\n",
              "      <td>7.12</td>\n",
              "      <td>4.6</td>\n",
              "      <td>5.0</td>\n",
              "      <td>3.20</td>\n",
              "      <td>3.29</td>\n",
              "    </tr>\n",
              "    <tr>\n",
              "      <th>1973May</th>\n",
              "      <td>7.84</td>\n",
              "      <td>4.6</td>\n",
              "      <td>4.9</td>\n",
              "      <td>3.20</td>\n",
              "      <td>3.45</td>\n",
              "    </tr>\n",
              "    <tr>\n",
              "      <th>...</th>\n",
              "      <td>...</td>\n",
              "      <td>...</td>\n",
              "      <td>...</td>\n",
              "      <td>...</td>\n",
              "      <td>...</td>\n",
              "    </tr>\n",
              "    <tr>\n",
              "      <th>2022Jun</th>\n",
              "      <td>1.58</td>\n",
              "      <td>-0.6</td>\n",
              "      <td>3.6</td>\n",
              "      <td>9.06</td>\n",
              "      <td>4.88</td>\n",
              "    </tr>\n",
              "    <tr>\n",
              "      <th>2022Jul</th>\n",
              "      <td>2.32</td>\n",
              "      <td>2.6</td>\n",
              "      <td>3.5</td>\n",
              "      <td>8.52</td>\n",
              "      <td>5.04</td>\n",
              "    </tr>\n",
              "    <tr>\n",
              "      <th>2022Aug</th>\n",
              "      <td>2.33</td>\n",
              "      <td>2.6</td>\n",
              "      <td>3.7</td>\n",
              "      <td>8.26</td>\n",
              "      <td>4.67</td>\n",
              "    </tr>\n",
              "    <tr>\n",
              "      <th>2022Sep</th>\n",
              "      <td>3.08</td>\n",
              "      <td>2.6</td>\n",
              "      <td>3.5</td>\n",
              "      <td>8.20</td>\n",
              "      <td>4.89</td>\n",
              "    </tr>\n",
              "    <tr>\n",
              "      <th>2022Oct</th>\n",
              "      <td>3.08</td>\n",
              "      <td>2.6</td>\n",
              "      <td>3.5</td>\n",
              "      <td>7.75</td>\n",
              "      <td>5.15</td>\n",
              "    </tr>\n",
              "  </tbody>\n",
              "</table>\n",
              "<p>598 rows × 5 columns</p>\n",
              "</div>\n",
              "      <button class=\"colab-df-convert\" onclick=\"convertToInteractive('df-9498de8d-cf77-4a94-ac46-310185363a70')\"\n",
              "              title=\"Convert this dataframe to an interactive table.\"\n",
              "              style=\"display:none;\">\n",
              "        \n",
              "  <svg xmlns=\"http://www.w3.org/2000/svg\" height=\"24px\"viewBox=\"0 0 24 24\"\n",
              "       width=\"24px\">\n",
              "    <path d=\"M0 0h24v24H0V0z\" fill=\"none\"/>\n",
              "    <path d=\"M18.56 5.44l.94 2.06.94-2.06 2.06-.94-2.06-.94-.94-2.06-.94 2.06-2.06.94zm-11 1L8.5 8.5l.94-2.06 2.06-.94-2.06-.94L8.5 2.5l-.94 2.06-2.06.94zm10 10l.94 2.06.94-2.06 2.06-.94-2.06-.94-.94-2.06-.94 2.06-2.06.94z\"/><path d=\"M17.41 7.96l-1.37-1.37c-.4-.4-.92-.59-1.43-.59-.52 0-1.04.2-1.43.59L10.3 9.45l-7.72 7.72c-.78.78-.78 2.05 0 2.83L4 21.41c.39.39.9.59 1.41.59.51 0 1.02-.2 1.41-.59l7.78-7.78 2.81-2.81c.8-.78.8-2.07 0-2.86zM5.41 20L4 18.59l7.72-7.72 1.47 1.35L5.41 20z\"/>\n",
              "  </svg>\n",
              "      </button>\n",
              "      \n",
              "  <style>\n",
              "    .colab-df-container {\n",
              "      display:flex;\n",
              "      flex-wrap:wrap;\n",
              "      gap: 12px;\n",
              "    }\n",
              "\n",
              "    .colab-df-convert {\n",
              "      background-color: #E8F0FE;\n",
              "      border: none;\n",
              "      border-radius: 50%;\n",
              "      cursor: pointer;\n",
              "      display: none;\n",
              "      fill: #1967D2;\n",
              "      height: 32px;\n",
              "      padding: 0 0 0 0;\n",
              "      width: 32px;\n",
              "    }\n",
              "\n",
              "    .colab-df-convert:hover {\n",
              "      background-color: #E2EBFA;\n",
              "      box-shadow: 0px 1px 2px rgba(60, 64, 67, 0.3), 0px 1px 3px 1px rgba(60, 64, 67, 0.15);\n",
              "      fill: #174EA6;\n",
              "    }\n",
              "\n",
              "    [theme=dark] .colab-df-convert {\n",
              "      background-color: #3B4455;\n",
              "      fill: #D2E3FC;\n",
              "    }\n",
              "\n",
              "    [theme=dark] .colab-df-convert:hover {\n",
              "      background-color: #434B5C;\n",
              "      box-shadow: 0px 1px 3px 1px rgba(0, 0, 0, 0.15);\n",
              "      filter: drop-shadow(0px 1px 2px rgba(0, 0, 0, 0.3));\n",
              "      fill: #FFFFFF;\n",
              "    }\n",
              "  </style>\n",
              "\n",
              "      <script>\n",
              "        const buttonEl =\n",
              "          document.querySelector('#df-9498de8d-cf77-4a94-ac46-310185363a70 button.colab-df-convert');\n",
              "        buttonEl.style.display =\n",
              "          google.colab.kernel.accessAllowed ? 'block' : 'none';\n",
              "\n",
              "        async function convertToInteractive(key) {\n",
              "          const element = document.querySelector('#df-9498de8d-cf77-4a94-ac46-310185363a70');\n",
              "          const dataTable =\n",
              "            await google.colab.kernel.invokeFunction('convertToInteractive',\n",
              "                                                     [key], {});\n",
              "          if (!dataTable) return;\n",
              "\n",
              "          const docLinkHtml = 'Like what you see? Visit the ' +\n",
              "            '<a target=\"_blank\" href=https://colab.research.google.com/notebooks/data_table.ipynb>data table notebook</a>'\n",
              "            + ' to learn more about interactive tables.';\n",
              "          element.innerHTML = '';\n",
              "          dataTable['output_type'] = 'display_data';\n",
              "          await google.colab.output.renderOutput(dataTable, element);\n",
              "          const docLink = document.createElement('div');\n",
              "          docLink.innerHTML = docLinkHtml;\n",
              "          element.appendChild(docLink);\n",
              "        }\n",
              "      </script>\n",
              "    </div>\n",
              "  </div>\n",
              "  "
            ]
          },
          "metadata": {},
          "execution_count": 7
        }
      ]
    },
    {
      "cell_type": "code",
      "source": [
        "fin_df.head()"
      ],
      "metadata": {
        "colab": {
          "base_uri": "https://localhost:8080/",
          "height": 238
        },
        "id": "yG2k_0RftQi7",
        "outputId": "1b9403a4-b812-4834-fe6f-7d71e26425e5"
      },
      "execution_count": null,
      "outputs": [
        {
          "output_type": "execute_result",
          "data": {
            "text/plain": [
              "         EffectiveFederalFundsRate  RealGDP   UnemploymentRate  InflationRate  \\\n",
              "Year                                                                            \n",
              "1973Jan                       5.94      10.2               4.9            2.8   \n",
              "1973Feb                       6.58      10.2               5.0            2.8   \n",
              "1973Mar                       7.09      10.2               4.9            3.0   \n",
              "1973Apr                       7.12       4.6               5.0            3.2   \n",
              "1973May                       7.84       4.6               4.9            3.2   \n",
              "\n",
              "         CorePCE  \n",
              "Year              \n",
              "1973Jan     2.68  \n",
              "1973Feb     2.73  \n",
              "1973Mar     2.94  \n",
              "1973Apr     3.29  \n",
              "1973May     3.45  "
            ],
            "text/html": [
              "\n",
              "  <div id=\"df-bb062742-9f87-4f44-b738-619052c4fee6\">\n",
              "    <div class=\"colab-df-container\">\n",
              "      <div>\n",
              "<style scoped>\n",
              "    .dataframe tbody tr th:only-of-type {\n",
              "        vertical-align: middle;\n",
              "    }\n",
              "\n",
              "    .dataframe tbody tr th {\n",
              "        vertical-align: top;\n",
              "    }\n",
              "\n",
              "    .dataframe thead th {\n",
              "        text-align: right;\n",
              "    }\n",
              "</style>\n",
              "<table border=\"1\" class=\"dataframe\">\n",
              "  <thead>\n",
              "    <tr style=\"text-align: right;\">\n",
              "      <th></th>\n",
              "      <th>EffectiveFederalFundsRate</th>\n",
              "      <th>RealGDP</th>\n",
              "      <th>UnemploymentRate</th>\n",
              "      <th>InflationRate</th>\n",
              "      <th>CorePCE</th>\n",
              "    </tr>\n",
              "    <tr>\n",
              "      <th>Year</th>\n",
              "      <th></th>\n",
              "      <th></th>\n",
              "      <th></th>\n",
              "      <th></th>\n",
              "      <th></th>\n",
              "    </tr>\n",
              "  </thead>\n",
              "  <tbody>\n",
              "    <tr>\n",
              "      <th>1973Jan</th>\n",
              "      <td>5.94</td>\n",
              "      <td>10.2</td>\n",
              "      <td>4.9</td>\n",
              "      <td>2.8</td>\n",
              "      <td>2.68</td>\n",
              "    </tr>\n",
              "    <tr>\n",
              "      <th>1973Feb</th>\n",
              "      <td>6.58</td>\n",
              "      <td>10.2</td>\n",
              "      <td>5.0</td>\n",
              "      <td>2.8</td>\n",
              "      <td>2.73</td>\n",
              "    </tr>\n",
              "    <tr>\n",
              "      <th>1973Mar</th>\n",
              "      <td>7.09</td>\n",
              "      <td>10.2</td>\n",
              "      <td>4.9</td>\n",
              "      <td>3.0</td>\n",
              "      <td>2.94</td>\n",
              "    </tr>\n",
              "    <tr>\n",
              "      <th>1973Apr</th>\n",
              "      <td>7.12</td>\n",
              "      <td>4.6</td>\n",
              "      <td>5.0</td>\n",
              "      <td>3.2</td>\n",
              "      <td>3.29</td>\n",
              "    </tr>\n",
              "    <tr>\n",
              "      <th>1973May</th>\n",
              "      <td>7.84</td>\n",
              "      <td>4.6</td>\n",
              "      <td>4.9</td>\n",
              "      <td>3.2</td>\n",
              "      <td>3.45</td>\n",
              "    </tr>\n",
              "  </tbody>\n",
              "</table>\n",
              "</div>\n",
              "      <button class=\"colab-df-convert\" onclick=\"convertToInteractive('df-bb062742-9f87-4f44-b738-619052c4fee6')\"\n",
              "              title=\"Convert this dataframe to an interactive table.\"\n",
              "              style=\"display:none;\">\n",
              "        \n",
              "  <svg xmlns=\"http://www.w3.org/2000/svg\" height=\"24px\"viewBox=\"0 0 24 24\"\n",
              "       width=\"24px\">\n",
              "    <path d=\"M0 0h24v24H0V0z\" fill=\"none\"/>\n",
              "    <path d=\"M18.56 5.44l.94 2.06.94-2.06 2.06-.94-2.06-.94-.94-2.06-.94 2.06-2.06.94zm-11 1L8.5 8.5l.94-2.06 2.06-.94-2.06-.94L8.5 2.5l-.94 2.06-2.06.94zm10 10l.94 2.06.94-2.06 2.06-.94-2.06-.94-.94-2.06-.94 2.06-2.06.94z\"/><path d=\"M17.41 7.96l-1.37-1.37c-.4-.4-.92-.59-1.43-.59-.52 0-1.04.2-1.43.59L10.3 9.45l-7.72 7.72c-.78.78-.78 2.05 0 2.83L4 21.41c.39.39.9.59 1.41.59.51 0 1.02-.2 1.41-.59l7.78-7.78 2.81-2.81c.8-.78.8-2.07 0-2.86zM5.41 20L4 18.59l7.72-7.72 1.47 1.35L5.41 20z\"/>\n",
              "  </svg>\n",
              "      </button>\n",
              "      \n",
              "  <style>\n",
              "    .colab-df-container {\n",
              "      display:flex;\n",
              "      flex-wrap:wrap;\n",
              "      gap: 12px;\n",
              "    }\n",
              "\n",
              "    .colab-df-convert {\n",
              "      background-color: #E8F0FE;\n",
              "      border: none;\n",
              "      border-radius: 50%;\n",
              "      cursor: pointer;\n",
              "      display: none;\n",
              "      fill: #1967D2;\n",
              "      height: 32px;\n",
              "      padding: 0 0 0 0;\n",
              "      width: 32px;\n",
              "    }\n",
              "\n",
              "    .colab-df-convert:hover {\n",
              "      background-color: #E2EBFA;\n",
              "      box-shadow: 0px 1px 2px rgba(60, 64, 67, 0.3), 0px 1px 3px 1px rgba(60, 64, 67, 0.15);\n",
              "      fill: #174EA6;\n",
              "    }\n",
              "\n",
              "    [theme=dark] .colab-df-convert {\n",
              "      background-color: #3B4455;\n",
              "      fill: #D2E3FC;\n",
              "    }\n",
              "\n",
              "    [theme=dark] .colab-df-convert:hover {\n",
              "      background-color: #434B5C;\n",
              "      box-shadow: 0px 1px 3px 1px rgba(0, 0, 0, 0.15);\n",
              "      filter: drop-shadow(0px 1px 2px rgba(0, 0, 0, 0.3));\n",
              "      fill: #FFFFFF;\n",
              "    }\n",
              "  </style>\n",
              "\n",
              "      <script>\n",
              "        const buttonEl =\n",
              "          document.querySelector('#df-bb062742-9f87-4f44-b738-619052c4fee6 button.colab-df-convert');\n",
              "        buttonEl.style.display =\n",
              "          google.colab.kernel.accessAllowed ? 'block' : 'none';\n",
              "\n",
              "        async function convertToInteractive(key) {\n",
              "          const element = document.querySelector('#df-bb062742-9f87-4f44-b738-619052c4fee6');\n",
              "          const dataTable =\n",
              "            await google.colab.kernel.invokeFunction('convertToInteractive',\n",
              "                                                     [key], {});\n",
              "          if (!dataTable) return;\n",
              "\n",
              "          const docLinkHtml = 'Like what you see? Visit the ' +\n",
              "            '<a target=\"_blank\" href=https://colab.research.google.com/notebooks/data_table.ipynb>data table notebook</a>'\n",
              "            + ' to learn more about interactive tables.';\n",
              "          element.innerHTML = '';\n",
              "          dataTable['output_type'] = 'display_data';\n",
              "          await google.colab.output.renderOutput(dataTable, element);\n",
              "          const docLink = document.createElement('div');\n",
              "          docLink.innerHTML = docLinkHtml;\n",
              "          element.appendChild(docLink);\n",
              "        }\n",
              "      </script>\n",
              "    </div>\n",
              "  </div>\n",
              "  "
            ]
          },
          "metadata": {},
          "execution_count": 8
        }
      ]
    },
    {
      "cell_type": "markdown",
      "source": [
        "**Turning Response Variable Into a Categorical Variable**"
      ],
      "metadata": {
        "id": "TY3NEyd8N29f"
      }
    },
    {
      "cell_type": "code",
      "source": [
        "# Printing Five-Number Summary\n",
        "five_num_sum = []\n",
        "for q in [0, 0.25, 0.5, 0.75, 1]:\n",
        "  five_num_sum.append(np.quantile(df[\"EffectiveFederalFundsRate\"], q = q))\n",
        "print(five_num_sum)"
      ],
      "metadata": {
        "colab": {
          "base_uri": "https://localhost:8080/"
        },
        "id": "uh5yr4FmOLqz",
        "outputId": "3854561a-d2f4-40f5-e7ca-6a787d1d5353"
      },
      "execution_count": null,
      "outputs": [
        {
          "output_type": "stream",
          "name": "stdout",
          "text": [
            "[0.05, 1.225, 4.99, 7.1125, 19.1]\n"
          ]
        }
      ]
    },
    {
      "cell_type": "code",
      "source": [
        "# Creating new categories based on the five number summary\n",
        "groups = []\n",
        "for r in df[\"EffectiveFederalFundsRate\"]:\n",
        "  for i, mn in enumerate(five_num_sum):\n",
        "    if mn == five_num_sum[-1]:\n",
        "      break\n",
        "    mx = five_num_sum[i+1]\n",
        "    if mx == five_num_sum[-1]:\n",
        "      if r >= mn and r <= mx:\n",
        "        cur_group = '[' + str(mn) + ', ' + str(mx) + ']'\n",
        "        groups.append(cur_group)\n",
        "        break\n",
        "    elif r >= mn and r < mx:\n",
        "      cur_group = '[' + str(mn) + ', ' + str(mx) + ')'\n",
        "      groups.append(cur_group)\n",
        "      break\n",
        "print(groups[:5])"
      ],
      "metadata": {
        "colab": {
          "base_uri": "https://localhost:8080/"
        },
        "id": "6K-bd5P2X61d",
        "outputId": "f2db1710-799e-4159-a8a0-76657ab8e56a"
      },
      "execution_count": null,
      "outputs": [
        {
          "output_type": "stream",
          "name": "stdout",
          "text": [
            "['[4.99, 7.1125)', '[4.99, 7.1125)', '[4.99, 7.1125)', '[7.1125, 19.1]', '[7.1125, 19.1]']\n"
          ]
        }
      ]
    },
    {
      "cell_type": "code",
      "source": [
        "# Adding groups to fin_df\n",
        "fin_df[\"EFFR_Group\"] = groups"
      ],
      "metadata": {
        "id": "rYvAgxfYldZo"
      },
      "execution_count": null,
      "outputs": []
    },
    {
      "cell_type": "code",
      "source": [
        "# Exploring Value Counts\n",
        "counts = fin_df[\"EFFR_Group\"].value_counts()\n",
        "print(counts)\n",
        "for i in counts.index:\n",
        "  if counts.loc[i] < 10:\n",
        "    print(i)\n",
        "    print(counts.loc[i])\n",
        "    print()"
      ],
      "metadata": {
        "colab": {
          "base_uri": "https://localhost:8080/"
        },
        "id": "uVk2enBfn3qv",
        "outputId": "327f3f0f-e768-4ef2-9353-a58976e455e7"
      },
      "execution_count": null,
      "outputs": [
        {
          "output_type": "stream",
          "name": "stdout",
          "text": [
            "[4.99, 7.1125)    150\n",
            "[7.1125, 19.1]    150\n",
            "[0.05, 1.225)     150\n",
            "[1.225, 4.99)     148\n",
            "Name: EFFR_Group, dtype: int64\n"
          ]
        }
      ]
    },
    {
      "cell_type": "markdown",
      "source": [
        "**Training-Testing Splits**"
      ],
      "metadata": {
        "id": "KnNDKAJhZDXD"
      }
    },
    {
      "cell_type": "code",
      "source": [
        "# Splitting the Data into Training and Testing Sets\n",
        "def train_test_splits(X,y,test_frac=0.5):\n",
        "    # Randomly splits dataset into training and testing data. Unmodified from Lab 2.\n",
        "    inxs = list(range(len(y)))\n",
        "    np.random.shuffle(inxs)\n",
        "    X = X.iloc[inxs,:]\n",
        "    y = y.iloc[inxs]\n",
        "    Xtrain,ytrain,Xtest,ytest = None,None,None,None\n",
        "    \n",
        "    cutoff = len(y)*(1-test_frac)\n",
        "    if cutoff % 1 == 0:\n",
        "        cutoff = int(cutoff)\n",
        "    elif cutoff % 1 <= 0.5:\n",
        "        cutoff = int(cutoff) + 1\n",
        "    elif cutoff % 1 > 0.5:\n",
        "        cutoff = int(cutoff) - 1\n",
        "        \n",
        "    train_list = list(range(cutoff))\n",
        "    test_list = list(range(cutoff, len(y)))\n",
        "    \n",
        "    Xtrain,ytrain,Xtest,ytest = X.iloc[train_list,:], y.iloc[train_list], X.iloc[test_list,:], y.iloc[test_list]\n",
        "    return Xtrain,ytrain,Xtest,ytest"
      ],
      "metadata": {
        "id": "3IOxKdfYZ1NM"
      },
      "execution_count": null,
      "outputs": []
    },
    {
      "cell_type": "markdown",
      "source": [
        "**Lab 3 Evaluation Functions**"
      ],
      "metadata": {
        "id": "yhHQoSRBqymb"
      }
    },
    {
      "cell_type": "code",
      "source": [
        "def lab_conf_matrix(t,y,labels):\n",
        "    cm = pd.DataFrame(columns=labels,index=labels)\n",
        "    # actual is on the rows, pred on the columns\n",
        "    for truth in labels:\n",
        "        for pred in labels:\n",
        "            count = sum((t == truth) & (y == pred))\n",
        "            cm.loc[truth, pred] = count\n",
        "    return cm\n",
        "\n",
        "def evaluation(cm,positive_class=1):\n",
        "    stats = {}\n",
        "    stats[\"accuracy\"] = None\n",
        "    stats[\"sensitivity/recall\"] = None\n",
        "    stats[\"specificity\"] = None\n",
        "    stats[\"precision\"] = None\n",
        "    stats[\"F1\"] = None\n",
        "    num_correct = 0\n",
        "    num_tns = 0\n",
        "    num_fps = 0\n",
        "    for row in list(cm.index):\n",
        "        for col in list(cm.columns):\n",
        "            if row == col:\n",
        "                num_correct += cm.loc[row, col]\n",
        "                # TPR or TNR\n",
        "                try:\n",
        "                    val = cm.loc[row, col]/sum(cm.loc[row])\n",
        "                except ZeroDivisionError:\n",
        "                    val = None\n",
        "                if row == positive_class:\n",
        "                    # TPR\n",
        "                    stats[\"sensitivity/recall\"] = val\n",
        "                    # Precision\n",
        "                    try:\n",
        "                        val = cm.loc[row, col]/sum(cm[col])\n",
        "                    except ZeroDivisionError:\n",
        "                        val = None\n",
        "                    stats[\"precision\"] = val\n",
        "                else:\n",
        "                    # TNR\n",
        "                    num_tns += cm.loc[row, col]\n",
        "            elif col == positive_class and row != positive_class:\n",
        "                num_fps += cm.loc[row, col]\n",
        "    stats[\"specificity\"] = num_tns/(num_tns+num_fps)\n",
        "    stats[\"accuracy\"] = num_correct/cm.sum().sum()\n",
        "    try:\n",
        "        stats[\"F1\"] = 2*stats[\"precision\"]*stats[\"sensitivity/recall\"] / (stats[\"precision\"]+stats[\"sensitivity/recall\"])\n",
        "    except TypeError:\n",
        "        stats[\"F1\"] = None\n",
        "    return stats"
      ],
      "metadata": {
        "id": "4z8tfVlyq4Bb"
      },
      "execution_count": null,
      "outputs": []
    },
    {
      "cell_type": "markdown",
      "source": [
        "***QUESTION 1: Can our models predict future Federal Reserve interest rate decisions just based on economic and market data? How dependent is the Federal Reserve on economic data really?***"
      ],
      "metadata": {
        "id": "OFFAELq5o1TG"
      }
    },
    {
      "cell_type": "markdown",
      "source": [
        "**Algorithm 1 (Decision Tree)**"
      ],
      "metadata": {
        "id": "O2kvbSsXMn-3"
      }
    },
    {
      "cell_type": "markdown",
      "source": [
        "Getting Training and Testing Data"
      ],
      "metadata": {
        "id": "o0ceg9JumtQz"
      }
    },
    {
      "cell_type": "code",
      "source": [
        "# Getting features and target\n",
        "X = fin_df.drop([\"EffectiveFederalFundsRate\", \"EFFR_Group\"], axis=1)\n",
        "y = fin_df[\"EFFR_Group\"]\n",
        "\n",
        "# Getting training and testing data\n",
        "np.random.seed(17)\n",
        "X_train, y_train, X_test, y_test = train_test_splits(X, y, 0.25)"
      ],
      "metadata": {
        "id": "OUfHIat6ZBrW"
      },
      "execution_count": null,
      "outputs": []
    },
    {
      "cell_type": "markdown",
      "source": [
        "Scikit-Learn Implementation"
      ],
      "metadata": {
        "id": "yxMzzap4mfY8"
      }
    },
    {
      "cell_type": "code",
      "source": [
        "from sklearn.tree import DecisionTreeClassifier\n",
        "from sklearn.tree import plot_tree"
      ],
      "metadata": {
        "id": "xNwWe_6pmfY8"
      },
      "execution_count": null,
      "outputs": []
    },
    {
      "cell_type": "code",
      "source": [
        "# Tuning\n",
        "  # (Heavily inspired by the notebook showcased in the following YouTube video): https://www.youtube.com/watch?v=Q9eDnBsAJ4w&t=600s\n",
        "\n",
        "param_grid = {\"max_depth\": [8, 9, 10, 11, 12], \n",
        "              \"ccp_alpha\": [0.001, 0.0025, 0.005, 0.0075, 0.009]}\n",
        "\n",
        "tree = DecisionTreeClassifier(criterion = \"entropy\", random_state = 17, min_impurity_decrease=0.000001)\n",
        "\n",
        "gs = GridSearchCV(tree, param_grid, cv=10, scoring=\"accuracy\")\n",
        "gs.fit(X_train, y_train)\n",
        "\n",
        "print(\"Best Score: \", gs.best_score_)\n",
        "print(\"Best Parameters: \", gs.best_params_)"
      ],
      "metadata": {
        "colab": {
          "base_uri": "https://localhost:8080/"
        },
        "outputId": "3c48c73f-b4a6-420f-dc1c-4fd0a911f2eb",
        "id": "GXlbRgY4mfY8"
      },
      "execution_count": null,
      "outputs": [
        {
          "output_type": "stream",
          "name": "stdout",
          "text": [
            "Best Score:  0.8262121212121212\n",
            "Best Parameters:  {'ccp_alpha': 0.005, 'max_depth': 10}\n"
          ]
        }
      ]
    },
    {
      "cell_type": "code",
      "source": [
        "# Training\n",
        "tree = DecisionTreeClassifier(criterion = \"entropy\", max_depth = 10, ccp_alpha = 0.005, random_state = 17, min_impurity_decrease=0.000001).fit(X_train, y_train)\n",
        "plot_tree(tree)\n",
        "plt.show()"
      ],
      "metadata": {
        "colab": {
          "base_uri": "https://localhost:8080/",
          "height": 248
        },
        "outputId": "d17b698c-f87d-470d-f6a7-518010a6e8f1",
        "id": "HjPTV53dmfY9"
      },
      "execution_count": null,
      "outputs": [
        {
          "output_type": "display_data",
          "data": {
            "text/plain": [
              "<Figure size 432x288 with 1 Axes>"
            ],
            "image/png": "[encoded data removed]"
          },
          "metadata": {
            "needs_background": "light"
          }
        }
      ]
    },
    {
      "cell_type": "code",
      "source": [
        "# Testing\n",
        "preds = tree.predict(X_test)\n",
        "preds = preds.tolist()\n",
        "truths = y_test.to_list()\n",
        "\n",
        "# Evaluation\n",
        "print(confusion_matrix(truths, preds))"
      ],
      "metadata": {
        "colab": {
          "base_uri": "https://localhost:8080/"
        },
        "outputId": "eeb2ab7e-c79d-4cfc-f8e1-1e4455478f3d",
        "id": "ZYmGbtv0mfY9"
      },
      "execution_count": null,
      "outputs": [
        {
          "output_type": "stream",
          "name": "stdout",
          "text": [
            "[[31  2  0  0]\n",
            " [ 3 30  8  0]\n",
            " [ 0  5 35  3]\n",
            " [ 0  0  2 30]]\n"
          ]
        }
      ]
    },
    {
      "cell_type": "code",
      "source": [
        "# Accuracy\n",
        "print(accuracy_score(truths, preds))"
      ],
      "metadata": {
        "colab": {
          "base_uri": "https://localhost:8080/"
        },
        "id": "c2evLzsUgEVV",
        "outputId": "917fa66a-93dd-4059-e318-ebb1c297c542"
      },
      "execution_count": null,
      "outputs": [
        {
          "output_type": "stream",
          "name": "stdout",
          "text": [
            "0.8456375838926175\n"
          ]
        }
      ]
    },
    {
      "cell_type": "markdown",
      "source": [
        "Lab Implementation"
      ],
      "metadata": {
        "id": "g7rhm_4emfY9"
      }
    },
    {
      "cell_type": "code",
      "source": [
        "# Lab 4 Functions\n",
        "\n",
        "def entropy(y):\n",
        "    e = None\n",
        "    # YOUR SOLUTION HERE\n",
        "    e = 0\n",
        "    value_counts = y.value_counts()\n",
        "    denom = value_counts.sum()\n",
        "    for i in value_counts.index:\n",
        "        numer = value_counts.loc[i]\n",
        "        frac = numer/denom\n",
        "        e += -frac * np.log2(frac)\n",
        "    return e\n",
        "\n",
        "def gain(y,x):\n",
        "    g = 0\n",
        "    # YOUR SOLUTION HERE\n",
        "    denom = len(y)\n",
        "    value_counts_x = x.value_counts()\n",
        "    for i in value_counts_x.index:\n",
        "        subset = y[x == i]\n",
        "        numer = len(subset)\n",
        "        g += numer/denom * entropy(subset)\n",
        "    return entropy(y) - g\n",
        "\n",
        "def gain_ratio(y,x):\n",
        "    # YOUR SOLUTION HERE\n",
        "    g = gain(y, x)\n",
        "    return g/entropy(y)\n",
        "\n",
        "def generate_rules(tree):\n",
        "    rules = []\n",
        "    # Your solution here\n",
        "    if type(tree) is not dict:\n",
        "        return [tree]\n",
        "   \n",
        "    for key in tree.keys():\n",
        "        for val in tree[key].keys():\n",
        "            sub_rules = generate_rules(tree[key][val])\n",
        "            for cur_rule in sub_rules:\n",
        "                if type(cur_rule) == str:\n",
        "                    final_rule = [cur_rule]\n",
        "                else:\n",
        "                    final_rule = cur_rule\n",
        "                #try:\n",
        "                final_rule.insert(0, (key, val))\n",
        "                #except:\n",
        "                  #import pdb\n",
        "                  #pdb.set_trace()\n",
        "                rules.append(final_rule)\n",
        "\n",
        "    return rules\n",
        "\n",
        "def split_col(x, y):\n",
        "    x2 = list(x.copy())\n",
        "    save_x = x.copy()\n",
        "    x2.sort()\n",
        "    splits = []\n",
        "    gr = None\n",
        "    c = None\n",
        "    for i in range(0, len(x2)-1):\n",
        "        splits.append((x2[i] + x2[i+1]) / 2)\n",
        "    for split in splits:\n",
        "        x = x.apply(lambda x: True if x < split else False)\n",
        "        cur_gr = gain_ratio(y, x)\n",
        "        if gr is None or gr < cur_gr:\n",
        "            gr = cur_gr\n",
        "            c = round(split, 2)\n",
        "        x = save_x.copy()\n",
        "    return gr, c\n",
        "\n",
        "def select_split2(X, y):\n",
        "    newname, gr = None, None\n",
        "    # Your solution here\n",
        "    # Iterates through all columns to find the best one to split on\n",
        "    for cur_col in X.columns:\n",
        "        # Note that split_col() function was already mostly written by the professor\n",
        "        cur_gr, split_val = split_col(X[cur_col], y)\n",
        "        if gr == None or gr < cur_gr:\n",
        "            # Builds the new column name, adding a '0' to achieve the proper number of decimal places\n",
        "            newname = cur_col + '<' + str(split_val) + '0'\n",
        "            gr = cur_gr\n",
        "    return newname, gr\n",
        "\n",
        "def make_tree2(X,y,min_split_count=5):\n",
        "    tree = {}\n",
        "    # Your solution here\n",
        "    X_copy = X.copy()\n",
        "    if X_copy.shape[1] == 0:\n",
        "        return y.value_counts().index[0]\n",
        "    if X_copy.shape[0] < min_split_count:\n",
        "        return y.value_counts().index[0]\n",
        "    if len(y.value_counts()) == 1:\n",
        "        return y.iloc[0]\n",
        "    new_col, gr = select_split2(X_copy, y)\n",
        "    col = new_col.split('<')[0]\n",
        "    val = new_col.split('<')[1]\n",
        "    X_copy[new_col] = X_copy[col] < float(val)\n",
        "    X_copy.drop(col, axis=1, inplace=True)\n",
        "    if gr >= 0.001:\n",
        "        tree[new_col] = {}              \n",
        "        for val in X_copy[new_col].value_counts().index.sort_values():\n",
        "            new_X = X_copy[X_copy[new_col] == val]\n",
        "            new_X = new_X.drop(new_col, axis = 1)\n",
        "            new_y = y[X_copy[new_col] == val]\n",
        "            tree[new_col][str(val)] = make_tree2(new_X, new_y, min_split_count)\n",
        "    else:\n",
        "        return y.value_counts().index[0]\n",
        "    return tree\n",
        "\n",
        "def make_prediction(rules,x,default):\n",
        "    # Your solution here\n",
        "    for rule in rules:\n",
        "        match = True\n",
        "        for i, feat_val in enumerate(rule):\n",
        "            if i == len(rule)-1:\n",
        "                break\n",
        "            try:\n",
        "                if x[feat_val[0]] != feat_val[1]:\n",
        "                    match = False\n",
        "                    break\n",
        "            except KeyError:\n",
        "                key = feat_val[0].split('<')\n",
        "                feat = key[0]\n",
        "                val = key[1]\n",
        "                if feat_val[1] == \"False\" and x[feat] < float(val):\n",
        "                    match = False\n",
        "                    break\n",
        "                if feat_val[1] == \"True\" and x[feat] >= float(val):\n",
        "                    match = False\n",
        "                    break\n",
        "        if match:\n",
        "            return rule[-1]\n",
        "    return(default)"
      ],
      "metadata": {
        "id": "z0fT42CkmfY9"
      },
      "execution_count": null,
      "outputs": []
    },
    {
      "cell_type": "code",
      "source": [
        "# Training\n",
        "tree = make_tree2(X_train, y_train, min_split_count=1)\n",
        "rules = generate_rules(tree)"
      ],
      "metadata": {
        "id": "Nd-RByuOdm1a"
      },
      "execution_count": null,
      "outputs": []
    },
    {
      "cell_type": "code",
      "source": [
        "# Testing\n",
        "default = None\n",
        "preds = X_test.apply(lambda x: make_prediction(rules, x, default), axis=1)"
      ],
      "metadata": {
        "id": "P7gqExzggOxE"
      },
      "execution_count": null,
      "outputs": []
    },
    {
      "cell_type": "code",
      "source": [
        "# Evaluation\n",
        "truths = y_test\n",
        "labels = list(pd.Series(pd.Series(groups).unique()).sort_values())\n",
        "cm = lab_conf_matrix(truths, preds, labels)\n",
        "cm"
      ],
      "metadata": {
        "colab": {
          "base_uri": "https://localhost:8080/",
          "height": 175
        },
        "id": "AD1DDMdyqPJE",
        "outputId": "2de2a916-d5a1-4ae1-992e-9e50a4e1f263"
      },
      "execution_count": null,
      "outputs": [
        {
          "output_type": "execute_result",
          "data": {
            "text/plain": [
              "               [0.05, 1.225) [1.225, 4.99) [4.99, 7.1125) [7.1125, 19.1]\n",
              "[0.05, 1.225)             28             4              0              1\n",
              "[1.225, 4.99)              7            29              0              5\n",
              "[4.99, 7.1125)             0            25              0             18\n",
              "[7.1125, 19.1]             0             0              0             32"
            ],
            "text/html": [
              "\n",
              "  <div id=\"df-3e5f5287-fc51-4ae7-b153-db5a1da9657e\">\n",
              "    <div class=\"colab-df-container\">\n",
              "      <div>\n",
              "<style scoped>\n",
              "    .dataframe tbody tr th:only-of-type {\n",
              "        vertical-align: middle;\n",
              "    }\n",
              "\n",
              "    .dataframe tbody tr th {\n",
              "        vertical-align: top;\n",
              "    }\n",
              "\n",
              "    .dataframe thead th {\n",
              "        text-align: right;\n",
              "    }\n",
              "</style>\n",
              "<table border=\"1\" class=\"dataframe\">\n",
              "  <thead>\n",
              "    <tr style=\"text-align: right;\">\n",
              "      <th></th>\n",
              "      <th>[0.05, 1.225)</th>\n",
              "      <th>[1.225, 4.99)</th>\n",
              "      <th>[4.99, 7.1125)</th>\n",
              "      <th>[7.1125, 19.1]</th>\n",
              "    </tr>\n",
              "  </thead>\n",
              "  <tbody>\n",
              "    <tr>\n",
              "      <th>[0.05, 1.225)</th>\n",
              "      <td>28</td>\n",
              "      <td>4</td>\n",
              "      <td>0</td>\n",
              "      <td>1</td>\n",
              "    </tr>\n",
              "    <tr>\n",
              "      <th>[1.225, 4.99)</th>\n",
              "      <td>7</td>\n",
              "      <td>29</td>\n",
              "      <td>0</td>\n",
              "      <td>5</td>\n",
              "    </tr>\n",
              "    <tr>\n",
              "      <th>[4.99, 7.1125)</th>\n",
              "      <td>0</td>\n",
              "      <td>25</td>\n",
              "      <td>0</td>\n",
              "      <td>18</td>\n",
              "    </tr>\n",
              "    <tr>\n",
              "      <th>[7.1125, 19.1]</th>\n",
              "      <td>0</td>\n",
              "      <td>0</td>\n",
              "      <td>0</td>\n",
              "      <td>32</td>\n",
              "    </tr>\n",
              "  </tbody>\n",
              "</table>\n",
              "</div>\n",
              "      <button class=\"colab-df-convert\" onclick=\"convertToInteractive('df-3e5f5287-fc51-4ae7-b153-db5a1da9657e')\"\n",
              "              title=\"Convert this dataframe to an interactive table.\"\n",
              "              style=\"display:none;\">\n",
              "        \n",
              "  <svg xmlns=\"http://www.w3.org/2000/svg\" height=\"24px\"viewBox=\"0 0 24 24\"\n",
              "       width=\"24px\">\n",
              "    <path d=\"M0 0h24v24H0V0z\" fill=\"none\"/>\n",
              "    <path d=\"M18.56 5.44l.94 2.06.94-2.06 2.06-.94-2.06-.94-.94-2.06-.94 2.06-2.06.94zm-11 1L8.5 8.5l.94-2.06 2.06-.94-2.06-.94L8.5 2.5l-.94 2.06-2.06.94zm10 10l.94 2.06.94-2.06 2.06-.94-2.06-.94-.94-2.06-.94 2.06-2.06.94z\"/><path d=\"M17.41 7.96l-1.37-1.37c-.4-.4-.92-.59-1.43-.59-.52 0-1.04.2-1.43.59L10.3 9.45l-7.72 7.72c-.78.78-.78 2.05 0 2.83L4 21.41c.39.39.9.59 1.41.59.51 0 1.02-.2 1.41-.59l7.78-7.78 2.81-2.81c.8-.78.8-2.07 0-2.86zM5.41 20L4 18.59l7.72-7.72 1.47 1.35L5.41 20z\"/>\n",
              "  </svg>\n",
              "      </button>\n",
              "      \n",
              "  <style>\n",
              "    .colab-df-container {\n",
              "      display:flex;\n",
              "      flex-wrap:wrap;\n",
              "      gap: 12px;\n",
              "    }\n",
              "\n",
              "    .colab-df-convert {\n",
              "      background-color: #E8F0FE;\n",
              "      border: none;\n",
              "      border-radius: 50%;\n",
              "      cursor: pointer;\n",
              "      display: none;\n",
              "      fill: #1967D2;\n",
              "      height: 32px;\n",
              "      padding: 0 0 0 0;\n",
              "      width: 32px;\n",
              "    }\n",
              "\n",
              "    .colab-df-convert:hover {\n",
              "      background-color: #E2EBFA;\n",
              "      box-shadow: 0px 1px 2px rgba(60, 64, 67, 0.3), 0px 1px 3px 1px rgba(60, 64, 67, 0.15);\n",
              "      fill: #174EA6;\n",
              "    }\n",
              "\n",
              "    [theme=dark] .colab-df-convert {\n",
              "      background-color: #3B4455;\n",
              "      fill: #D2E3FC;\n",
              "    }\n",
              "\n",
              "    [theme=dark] .colab-df-convert:hover {\n",
              "      background-color: #434B5C;\n",
              "      box-shadow: 0px 1px 3px 1px rgba(0, 0, 0, 0.15);\n",
              "      filter: drop-shadow(0px 1px 2px rgba(0, 0, 0, 0.3));\n",
              "      fill: #FFFFFF;\n",
              "    }\n",
              "  </style>\n",
              "\n",
              "      <script>\n",
              "        const buttonEl =\n",
              "          document.querySelector('#df-3e5f5287-fc51-4ae7-b153-db5a1da9657e button.colab-df-convert');\n",
              "        buttonEl.style.display =\n",
              "          google.colab.kernel.accessAllowed ? 'block' : 'none';\n",
              "\n",
              "        async function convertToInteractive(key) {\n",
              "          const element = document.querySelector('#df-3e5f5287-fc51-4ae7-b153-db5a1da9657e');\n",
              "          const dataTable =\n",
              "            await google.colab.kernel.invokeFunction('convertToInteractive',\n",
              "                                                     [key], {});\n",
              "          if (!dataTable) return;\n",
              "\n",
              "          const docLinkHtml = 'Like what you see? Visit the ' +\n",
              "            '<a target=\"_blank\" href=https://colab.research.google.com/notebooks/data_table.ipynb>data table notebook</a>'\n",
              "            + ' to learn more about interactive tables.';\n",
              "          element.innerHTML = '';\n",
              "          dataTable['output_type'] = 'display_data';\n",
              "          await google.colab.output.renderOutput(dataTable, element);\n",
              "          const docLink = document.createElement('div');\n",
              "          docLink.innerHTML = docLinkHtml;\n",
              "          element.appendChild(docLink);\n",
              "        }\n",
              "      </script>\n",
              "    </div>\n",
              "  </div>\n",
              "  "
            ]
          },
          "metadata": {},
          "execution_count": 26
        }
      ]
    },
    {
      "cell_type": "code",
      "source": [
        "# Accuracy\n",
        "print(accuracy_score(truths, preds))"
      ],
      "metadata": {
        "colab": {
          "base_uri": "https://localhost:8080/"
        },
        "id": "NJkG60Y4uBo8",
        "outputId": "712875c4-b47d-4bd4-ae6d-5a742502f46b"
      },
      "execution_count": null,
      "outputs": [
        {
          "output_type": "stream",
          "name": "stdout",
          "text": [
            "0.5973154362416108\n"
          ]
        }
      ]
    },
    {
      "cell_type": "code",
      "source": [
        "# Performance Metrics\n",
        "for r in labels:\n",
        "  print(\"Performance with respect to EFFRs in the range \" + r)\n",
        "  print(evaluation(cm, positive_class=r))\n",
        "  print()"
      ],
      "metadata": {
        "colab": {
          "base_uri": "https://localhost:8080/"
        },
        "id": "hB_a69PIq-VS",
        "outputId": "d08de8fb-6885-4e95-f602-03b588dcf9ba"
      },
      "execution_count": null,
      "outputs": [
        {
          "output_type": "stream",
          "name": "stdout",
          "text": [
            "Performance with respect to EFFRs in the range [0.05, 1.225)\n",
            "{'accuracy': 0.5973154362416108, 'sensitivity/recall': 0.8484848484848485, 'specificity': 0.8970588235294118, 'precision': 0.8, 'F1': 0.823529411764706}\n",
            "\n",
            "Performance with respect to EFFRs in the range [1.225, 4.99)\n",
            "{'accuracy': 0.5973154362416108, 'sensitivity/recall': 0.7073170731707317, 'specificity': 0.6741573033707865, 'precision': 0.5, 'F1': 0.5858585858585859}\n",
            "\n",
            "Performance with respect to EFFRs in the range [4.99, 7.1125)\n",
            "{'accuracy': 0.5973154362416108, 'sensitivity/recall': 0.0, 'specificity': 1.0, 'precision': None, 'F1': None}\n",
            "\n",
            "Performance with respect to EFFRs in the range [7.1125, 19.1]\n",
            "{'accuracy': 0.5973154362416108, 'sensitivity/recall': 1.0, 'specificity': 0.7037037037037037, 'precision': 0.5714285714285714, 'F1': 0.7272727272727273}\n",
            "\n"
          ]
        }
      ]
    },
    {
      "cell_type": "markdown",
      "source": [
        "**Algorithm 2: Neural Network**"
      ],
      "metadata": {
        "id": "RFjAv2fvhS3S"
      }
    },
    {
      "cell_type": "code",
      "source": [
        "# Lab 3 Functions\n",
        "\n",
        "def activation(net):\n",
        "    return 1/(1+np.exp(-net))\n",
        "\n",
        "def train(X,t,nepochs=1000,n=0.5,test_size=0.15,val_size=0.15,seed=0):\n",
        "    X_train, X_test, t_train, t_test = train_test_split(X, t, test_size=test_size,random_state=seed)\n",
        "    X_train2, X_val, t_train2, t_val = train_test_split(X_train, t_train, test_size=val_size,random_state=seed)\n",
        "\n",
        "    train_accuracy = []\n",
        "    val_accuracy = []\n",
        "    nfeatures = X.shape[1]\n",
        "    np.random.seed(seed)\n",
        "    w = 2*np.random.uniform(size=(nfeatures,)) - 1\n",
        "\n",
        "    for epoch in range(nepochs):\n",
        "        y_train2 = X_train2.apply(lambda x: activation(np.dot(w,x)),axis=1)\n",
        "        y_val = X_val.apply(lambda x: activation(np.dot(w,x)),axis=1)\n",
        "\n",
        "        train_accuracy.append(sum(t_train2 == np.round(y_train2))/len(t_train2))\n",
        "        val_accuracy.append(sum(t_val == np.round(y_val))/len(t_val))\n",
        "                \n",
        "        for j in range(len(w)):\n",
        "            # CAUSES ERROR SINCE RESPONSE VARIABLE HAS TEXT CATEGORIES\n",
        "            w[j] -= n*np.dot((y_train2 - t_train2)*y_train2*(1-y_train2),X_train2.iloc[:,j])\n",
        "\n",
        "    results = pd.DataFrame({\"epoch\": np.arange(nepochs)+1, 'train_accuracy':train_accuracy,'val_accuracy':val_accuracy,\n",
        "                            \"n\":n,'test_size':test_size,'val_size':val_size,'seed':seed\n",
        "                           }).set_index(['n','test_size','val_size','seed'])\n",
        "    return w,X_test,t_test,results\n",
        "\n",
        "def predict(w,X,threshold=0.5):\n",
        "    y = None\n",
        "    y = []\n",
        "    nets = X.apply(lambda x: activation(sum(w*np.array(x.values))), axis=1)\n",
        "    for i in list(nets.index):\n",
        "        if nets[i] > threshold:\n",
        "            nets[i] = 1\n",
        "        else:\n",
        "            nets[i] = 0\n",
        "    return nets.astype('int64')"
      ],
      "metadata": {
        "id": "aakilTqypFUC"
      },
      "execution_count": null,
      "outputs": []
    },
    {
      "cell_type": "markdown",
      "source": [
        "Getting X and Y"
      ],
      "metadata": {
        "id": "gnp_UJ-Wnm3s"
      }
    },
    {
      "cell_type": "code",
      "source": [
        "# Getting features and target\n",
        "X = fin_df.drop([\"EffectiveFederalFundsRate\", \"EFFR_Group\"], axis=1)\n",
        "y = fin_df[\"EFFR_Group\"]"
      ],
      "metadata": {
        "id": "rrQ3DKLAnn4x"
      },
      "execution_count": null,
      "outputs": []
    },
    {
      "cell_type": "markdown",
      "source": [
        "Scaling the Data"
      ],
      "metadata": {
        "id": "Zpwpyc5lnE4E"
      }
    },
    {
      "cell_type": "code",
      "source": [
        "# Standard Scaling (from Lab 3's given code)\n",
        "means = X.mean()\n",
        "sds = X.std()\n",
        "X2 = X.apply(lambda x: (x-means)/sds, axis=1)\n",
        "X2"
      ],
      "metadata": {
        "colab": {
          "base_uri": "https://localhost:8080/",
          "height": 455
        },
        "id": "m87Zb4rEnEg4",
        "outputId": "cd8bf499-e4d8-4ac3-a14f-559a9206fd09"
      },
      "execution_count": null,
      "outputs": [
        {
          "output_type": "execute_result",
          "data": {
            "text/plain": [
              "           RealGDP   UnemploymentRate  InflationRate   CorePCE\n",
              "Year                                                          \n",
              "1973Jan    1.646526         -0.769641      -0.421826 -0.298428\n",
              "1973Feb    1.646526         -0.711441      -0.421826 -0.276307\n",
              "1973March  1.646526         -0.769641      -0.348386 -0.183401\n",
              "1973April  0.415336         -0.711441      -0.274946 -0.028557\n",
              "1973May    0.415336         -0.769641      -0.274946  0.042229\n",
              "...             ...               ...            ...       ...\n",
              "2022June  -0.727913         -1.526240       1.876849  0.674877\n",
              "2022July  -0.024375         -1.584440       1.678560  0.745663\n",
              "2022Aug   -0.024375         -1.468040       1.583088  0.581971\n",
              "2022Sep   -0.024375         -1.584440       1.561056  0.679301\n",
              "2022Oct   -0.024375         -1.584440       1.395816  0.794328\n",
              "\n",
              "[598 rows x 4 columns]"
            ],
            "text/html": [
              "\n",
              "  <div id=\"df-4d991dce-4a33-4a9e-8640-0f7a78c99d19\">\n",
              "    <div class=\"colab-df-container\">\n",
              "      <div>\n",
              "<style scoped>\n",
              "    .dataframe tbody tr th:only-of-type {\n",
              "        vertical-align: middle;\n",
              "    }\n",
              "\n",
              "    .dataframe tbody tr th {\n",
              "        vertical-align: top;\n",
              "    }\n",
              "\n",
              "    .dataframe thead th {\n",
              "        text-align: right;\n",
              "    }\n",
              "</style>\n",
              "<table border=\"1\" class=\"dataframe\">\n",
              "  <thead>\n",
              "    <tr style=\"text-align: right;\">\n",
              "      <th></th>\n",
              "      <th>RealGDP</th>\n",
              "      <th>UnemploymentRate</th>\n",
              "      <th>InflationRate</th>\n",
              "      <th>CorePCE</th>\n",
              "    </tr>\n",
              "    <tr>\n",
              "      <th>Year</th>\n",
              "      <th></th>\n",
              "      <th></th>\n",
              "      <th></th>\n",
              "      <th></th>\n",
              "    </tr>\n",
              "  </thead>\n",
              "  <tbody>\n",
              "    <tr>\n",
              "      <th>1973Jan</th>\n",
              "      <td>1.646526</td>\n",
              "      <td>-0.769641</td>\n",
              "      <td>-0.421826</td>\n",
              "      <td>-0.298428</td>\n",
              "    </tr>\n",
              "    <tr>\n",
              "      <th>1973Feb</th>\n",
              "      <td>1.646526</td>\n",
              "      <td>-0.711441</td>\n",
              "      <td>-0.421826</td>\n",
              "      <td>-0.276307</td>\n",
              "    </tr>\n",
              "    <tr>\n",
              "      <th>1973March</th>\n",
              "      <td>1.646526</td>\n",
              "      <td>-0.769641</td>\n",
              "      <td>-0.348386</td>\n",
              "      <td>-0.183401</td>\n",
              "    </tr>\n",
              "    <tr>\n",
              "      <th>1973April</th>\n",
              "      <td>0.415336</td>\n",
              "      <td>-0.711441</td>\n",
              "      <td>-0.274946</td>\n",
              "      <td>-0.028557</td>\n",
              "    </tr>\n",
              "    <tr>\n",
              "      <th>1973May</th>\n",
              "      <td>0.415336</td>\n",
              "      <td>-0.769641</td>\n",
              "      <td>-0.274946</td>\n",
              "      <td>0.042229</td>\n",
              "    </tr>\n",
              "    <tr>\n",
              "      <th>...</th>\n",
              "      <td>...</td>\n",
              "      <td>...</td>\n",
              "      <td>...</td>\n",
              "      <td>...</td>\n",
              "    </tr>\n",
              "    <tr>\n",
              "      <th>2022June</th>\n",
              "      <td>-0.727913</td>\n",
              "      <td>-1.526240</td>\n",
              "      <td>1.876849</td>\n",
              "      <td>0.674877</td>\n",
              "    </tr>\n",
              "    <tr>\n",
              "      <th>2022July</th>\n",
              "      <td>-0.024375</td>\n",
              "      <td>-1.584440</td>\n",
              "      <td>1.678560</td>\n",
              "      <td>0.745663</td>\n",
              "    </tr>\n",
              "    <tr>\n",
              "      <th>2022Aug</th>\n",
              "      <td>-0.024375</td>\n",
              "      <td>-1.468040</td>\n",
              "      <td>1.583088</td>\n",
              "      <td>0.581971</td>\n",
              "    </tr>\n",
              "    <tr>\n",
              "      <th>2022Sep</th>\n",
              "      <td>-0.024375</td>\n",
              "      <td>-1.584440</td>\n",
              "      <td>1.561056</td>\n",
              "      <td>0.679301</td>\n",
              "    </tr>\n",
              "    <tr>\n",
              "      <th>2022Oct</th>\n",
              "      <td>-0.024375</td>\n",
              "      <td>-1.584440</td>\n",
              "      <td>1.395816</td>\n",
              "      <td>0.794328</td>\n",
              "    </tr>\n",
              "  </tbody>\n",
              "</table>\n",
              "<p>598 rows × 4 columns</p>\n",
              "</div>\n",
              "      <button class=\"colab-df-convert\" onclick=\"convertToInteractive('df-4d991dce-4a33-4a9e-8640-0f7a78c99d19')\"\n",
              "              title=\"Convert this dataframe to an interactive table.\"\n",
              "              style=\"display:none;\">\n",
              "        \n",
              "  <svg xmlns=\"http://www.w3.org/2000/svg\" height=\"24px\"viewBox=\"0 0 24 24\"\n",
              "       width=\"24px\">\n",
              "    <path d=\"M0 0h24v24H0V0z\" fill=\"none\"/>\n",
              "    <path d=\"M18.56 5.44l.94 2.06.94-2.06 2.06-.94-2.06-.94-.94-2.06-.94 2.06-2.06.94zm-11 1L8.5 8.5l.94-2.06 2.06-.94-2.06-.94L8.5 2.5l-.94 2.06-2.06.94zm10 10l.94 2.06.94-2.06 2.06-.94-2.06-.94-.94-2.06-.94 2.06-2.06.94z\"/><path d=\"M17.41 7.96l-1.37-1.37c-.4-.4-.92-.59-1.43-.59-.52 0-1.04.2-1.43.59L10.3 9.45l-7.72 7.72c-.78.78-.78 2.05 0 2.83L4 21.41c.39.39.9.59 1.41.59.51 0 1.02-.2 1.41-.59l7.78-7.78 2.81-2.81c.8-.78.8-2.07 0-2.86zM5.41 20L4 18.59l7.72-7.72 1.47 1.35L5.41 20z\"/>\n",
              "  </svg>\n",
              "      </button>\n",
              "      \n",
              "  <style>\n",
              "    .colab-df-container {\n",
              "      display:flex;\n",
              "      flex-wrap:wrap;\n",
              "      gap: 12px;\n",
              "    }\n",
              "\n",
              "    .colab-df-convert {\n",
              "      background-color: #E8F0FE;\n",
              "      border: none;\n",
              "      border-radius: 50%;\n",
              "      cursor: pointer;\n",
              "      display: none;\n",
              "      fill: #1967D2;\n",
              "      height: 32px;\n",
              "      padding: 0 0 0 0;\n",
              "      width: 32px;\n",
              "    }\n",
              "\n",
              "    .colab-df-convert:hover {\n",
              "      background-color: #E2EBFA;\n",
              "      box-shadow: 0px 1px 2px rgba(60, 64, 67, 0.3), 0px 1px 3px 1px rgba(60, 64, 67, 0.15);\n",
              "      fill: #174EA6;\n",
              "    }\n",
              "\n",
              "    [theme=dark] .colab-df-convert {\n",
              "      background-color: #3B4455;\n",
              "      fill: #D2E3FC;\n",
              "    }\n",
              "\n",
              "    [theme=dark] .colab-df-convert:hover {\n",
              "      background-color: #434B5C;\n",
              "      box-shadow: 0px 1px 3px 1px rgba(0, 0, 0, 0.15);\n",
              "      filter: drop-shadow(0px 1px 2px rgba(0, 0, 0, 0.3));\n",
              "      fill: #FFFFFF;\n",
              "    }\n",
              "  </style>\n",
              "\n",
              "      <script>\n",
              "        const buttonEl =\n",
              "          document.querySelector('#df-4d991dce-4a33-4a9e-8640-0f7a78c99d19 button.colab-df-convert');\n",
              "        buttonEl.style.display =\n",
              "          google.colab.kernel.accessAllowed ? 'block' : 'none';\n",
              "\n",
              "        async function convertToInteractive(key) {\n",
              "          const element = document.querySelector('#df-4d991dce-4a33-4a9e-8640-0f7a78c99d19');\n",
              "          const dataTable =\n",
              "            await google.colab.kernel.invokeFunction('convertToInteractive',\n",
              "                                                     [key], {});\n",
              "          if (!dataTable) return;\n",
              "\n",
              "          const docLinkHtml = 'Like what you see? Visit the ' +\n",
              "            '<a target=\"_blank\" href=https://colab.research.google.com/notebooks/data_table.ipynb>data table notebook</a>'\n",
              "            + ' to learn more about interactive tables.';\n",
              "          element.innerHTML = '';\n",
              "          dataTable['output_type'] = 'display_data';\n",
              "          await google.colab.output.renderOutput(dataTable, element);\n",
              "          const docLink = document.createElement('div');\n",
              "          docLink.innerHTML = docLinkHtml;\n",
              "          element.appendChild(docLink);\n",
              "        }\n",
              "      </script>\n",
              "    </div>\n",
              "  </div>\n",
              "  "
            ]
          },
          "metadata": {},
          "execution_count": 37
        }
      ]
    },
    {
      "cell_type": "markdown",
      "source": [
        "***Categorical Response Variable***"
      ],
      "metadata": {
        "id": "FFsS2Ws3hnnc"
      }
    },
    {
      "cell_type": "markdown",
      "source": [
        "Scikit-Learn Implementation"
      ],
      "metadata": {
        "id": "E4Iz5Ia7hnni"
      }
    },
    {
      "cell_type": "code",
      "source": [
        "from sklearn.neural_network import MLPClassifier"
      ],
      "metadata": {
        "id": "B61oFIPKhZEK"
      },
      "execution_count": null,
      "outputs": []
    },
    {
      "cell_type": "code",
      "source": [
        "# Getting training and testing data\n",
        "np.random.seed(17)\n",
        "X_train, y_train, X_test, y_test = train_test_splits(X2, y, 0.25)"
      ],
      "metadata": {
        "id": "ti18Ut_lhnni"
      },
      "execution_count": null,
      "outputs": []
    },
    {
      "cell_type": "code",
      "source": [
        "# Tuning\n",
        "  # (Heavily inspired by the notebook showcased in the following YouTube video): https://www.youtube.com/watch?v=Q9eDnBsAJ4w&t=600s\n",
        "\n",
        "param_grid = {#\"activation\": ['identity', 'logistic', 'tanh', 'relu'], \n",
        "              #\"solver\": ['lbfgs', 'sgd', 'adam'], \n",
        "              #\"learning_rate\": [\"constant\", \"invscaling\", \"adaptive\"], \n",
        "              #\"momentum\": [0.1, 0.5, 0.9], \n",
        "              \"learning_rate_init\": [0.000001, 0.0001, 0.01]}\n",
        "\n",
        "network = MLPClassifier(activation = 'logistic', solver = 'lbfgs', max_iter = 1000, random_state = 17, early_stopping = True)\n",
        "\n",
        "gs = GridSearchCV(network, param_grid, cv=10, scoring=\"accuracy\")\n",
        "gs.fit(X_train.values, y_train.values)\n",
        "\n",
        "print(\"Best Score: \", gs.best_score_)\n",
        "print(\"Best Parameters: \", gs.best_params_)"
      ],
      "metadata": {
        "colab": {
          "base_uri": "https://localhost:8080/"
        },
        "id": "9GkTCV2Uh2uQ",
        "outputId": "7b2bf1c7-c645-4488-9cb7-e04075b71dc8"
      },
      "execution_count": null,
      "outputs": [
        {
          "output_type": "stream",
          "name": "stdout",
          "text": [
            "Best Score:  0.8730808080808081\n",
            "Best Parameters:  {'learning_rate_init': 1e-06}\n"
          ]
        }
      ]
    },
    {
      "cell_type": "code",
      "source": [
        "# Training\n",
        "network = MLPClassifier(activation = 'logistic', solver = 'lbfgs', max_iter = 1000, random_state = 17).fit(X_train, y_train)"
      ],
      "metadata": {
        "id": "DaZqA_LMuDtC"
      },
      "execution_count": null,
      "outputs": []
    },
    {
      "cell_type": "code",
      "source": [
        "# Testing\n",
        "preds = network.predict(X_test)\n",
        "preds = preds.tolist()\n",
        "truths = y_test.to_list()\n",
        "\n",
        "print(confusion_matrix(truths, preds))"
      ],
      "metadata": {
        "colab": {
          "base_uri": "https://localhost:8080/"
        },
        "id": "JtaCGmShuPyT",
        "outputId": "b8e070b6-bd1f-421e-a367-bfb65d5d3cf6"
      },
      "execution_count": null,
      "outputs": [
        {
          "output_type": "stream",
          "name": "stdout",
          "text": [
            "[[33  0  0  0]\n",
            " [ 2 32  7  0]\n",
            " [ 1  5 34  3]\n",
            " [ 0  1  2 29]]\n"
          ]
        }
      ]
    },
    {
      "cell_type": "code",
      "source": [
        "# Accuracy Score\n",
        "print(accuracy_score(truths, preds))"
      ],
      "metadata": {
        "colab": {
          "base_uri": "https://localhost:8080/"
        },
        "id": "gLxpPkomuh--",
        "outputId": "cd55e8d5-22af-49ec-bd88-bfd449fd936a"
      },
      "execution_count": null,
      "outputs": [
        {
          "output_type": "stream",
          "name": "stdout",
          "text": [
            "0.8590604026845637\n"
          ]
        }
      ]
    },
    {
      "cell_type": "code",
      "source": [
        "# Evaluation\n",
        "truths = y_test\n",
        "preds = network.predict(X_test)\n",
        "labels = list(pd.Series(pd.Series(groups).unique()).sort_values())\n",
        "cm = lab_conf_matrix(truths, preds, labels)\n",
        "print(cm)"
      ],
      "metadata": {
        "colab": {
          "base_uri": "https://localhost:8080/"
        },
        "id": "JabhZYTEvL3C",
        "outputId": "bf5ab461-d18b-4db4-a004-d79ee650776a"
      },
      "execution_count": null,
      "outputs": [
        {
          "output_type": "stream",
          "name": "stdout",
          "text": [
            "               [0.05, 1.225) [1.225, 4.99) [4.99, 7.1125) [7.1125, 19.1]\n",
            "[0.05, 1.225)             33             0              0              0\n",
            "[1.225, 4.99)              2            32              7              0\n",
            "[4.99, 7.1125)             1             5             34              3\n",
            "[7.1125, 19.1]             0             1              2             29\n"
          ]
        }
      ]
    },
    {
      "cell_type": "code",
      "source": [
        "# Performance\n",
        "for r in labels:\n",
        "  print(\"Performance with respect to EFFRs in the range \" + r)\n",
        "  print(evaluation(cm, positive_class=r))\n",
        "  print()"
      ],
      "metadata": {
        "colab": {
          "base_uri": "https://localhost:8080/"
        },
        "id": "YeMNAUIyvjEp",
        "outputId": "aa865262-5aa5-4023-eb9f-a87764253fea"
      },
      "execution_count": null,
      "outputs": [
        {
          "output_type": "stream",
          "name": "stdout",
          "text": [
            "Performance with respect to EFFRs in the range [0.05, 1.225)\n",
            "{'accuracy': 0.8590604026845637, 'sensitivity/recall': 1.0, 'specificity': 0.9693877551020408, 'precision': 0.9166666666666666, 'F1': 0.9565217391304348}\n",
            "\n",
            "Performance with respect to EFFRs in the range [1.225, 4.99)\n",
            "{'accuracy': 0.8590604026845637, 'sensitivity/recall': 0.7804878048780488, 'specificity': 0.9411764705882353, 'precision': 0.8421052631578947, 'F1': 0.810126582278481}\n",
            "\n",
            "Performance with respect to EFFRs in the range [4.99, 7.1125)\n",
            "{'accuracy': 0.8590604026845637, 'sensitivity/recall': 0.7906976744186046, 'specificity': 0.912621359223301, 'precision': 0.7906976744186046, 'F1': 0.7906976744186046}\n",
            "\n",
            "Performance with respect to EFFRs in the range [7.1125, 19.1]\n",
            "{'accuracy': 0.8590604026845637, 'sensitivity/recall': 0.90625, 'specificity': 0.9705882352941176, 'precision': 0.90625, 'F1': 0.90625}\n",
            "\n"
          ]
        }
      ]
    },
    {
      "cell_type": "markdown",
      "source": [
        "Lab 3 Implementation"
      ],
      "metadata": {
        "id": "HIkdtd0co8-i"
      }
    },
    {
      "cell_type": "code",
      "source": [
        "from sklearn.model_selection import train_test_split"
      ],
      "metadata": {
        "id": "30gsrjyPpm2P"
      },
      "execution_count": null,
      "outputs": []
    },
    {
      "cell_type": "code",
      "source": [
        "# Converting response variable in numeric categories\n",
        "labels = list(pd.Series(pd.Series(groups).unique()).sort_values())\n",
        "\n",
        "class_to_id = {}\n",
        "for i, group in enumerate(labels):\n",
        "  class_to_id[group] = i\n",
        "\n",
        "lab_y = y.copy()\n",
        "for i, group in enumerate(y):\n",
        "  lab_y.iloc[i] = class_to_id[group]\n",
        "\n",
        "print(y.head())\n",
        "print(lab_y.head())"
      ],
      "metadata": {
        "colab": {
          "base_uri": "https://localhost:8080/"
        },
        "id": "ki7Adcns0fjq",
        "outputId": "ff3c031d-4fd6-4df5-9c90-ef9110f93e56"
      },
      "execution_count": null,
      "outputs": [
        {
          "output_type": "stream",
          "name": "stdout",
          "text": [
            "Year\n",
            "1973Jan      [4.99, 7.1125)\n",
            "1973Feb      [4.99, 7.1125)\n",
            "1973March    [4.99, 7.1125)\n",
            "1973April    [7.1125, 19.1]\n",
            "1973May      [7.1125, 19.1]\n",
            "Name: EFFR_Group, dtype: object\n",
            "Year\n",
            "1973Jan      2\n",
            "1973Feb      2\n",
            "1973March    2\n",
            "1973April    3\n",
            "1973May      3\n",
            "Name: EFFR_Group, dtype: object\n"
          ]
        }
      ]
    },
    {
      "cell_type": "code",
      "source": [
        "# Training\n",
        "w, lab_X_test, lab_y_test, results = train(X2, lab_y, nepochs = 1000, test_size = 0.15, val_size = 0.15, seed=17)"
      ],
      "metadata": {
        "id": "H8idaY5mpBO4"
      },
      "execution_count": null,
      "outputs": []
    },
    {
      "cell_type": "code",
      "source": [
        "# Testing\n",
        "preds = predict(w, lab_X_test)\n",
        "labels = list(pd.Series(lab_y.unique()).sort_values())\n",
        "cm = lab_conf_matrix(lab_y_test, preds, labels)\n",
        "print(cm)"
      ],
      "metadata": {
        "colab": {
          "base_uri": "https://localhost:8080/"
        },
        "id": "j97O-iPBqiq8",
        "outputId": "084ab2f6-2623-4429-ef06-0f7f744fca1a"
      },
      "execution_count": null,
      "outputs": [
        {
          "output_type": "stream",
          "name": "stdout",
          "text": [
            "    0   1  2  3\n",
            "0  20   3  0  0\n",
            "1  23   2  0  0\n",
            "2  10   9  0  0\n",
            "3   1  22  0  0\n"
          ]
        }
      ]
    },
    {
      "cell_type": "code",
      "source": [
        "# Evaluation\n",
        "for r in labels:\n",
        "  print(\"Performance with respect to EFFRs in the range \" + str(r))\n",
        "  print(evaluation(cm, positive_class=r))\n",
        "  print()"
      ],
      "metadata": {
        "colab": {
          "base_uri": "https://localhost:8080/"
        },
        "id": "MGaQJeFJsK45",
        "outputId": "5f444810-9d03-462f-9087-a0ac90971757"
      },
      "execution_count": null,
      "outputs": [
        {
          "output_type": "stream",
          "name": "stdout",
          "text": [
            "Performance with respect to EFFRs in the range 0\n",
            "{'accuracy': 0.24444444444444444, 'sensitivity/recall': 0.8695652173913043, 'specificity': 0.05555555555555555, 'precision': 0.37037037037037035, 'F1': 0.5194805194805194}\n",
            "\n",
            "Performance with respect to EFFRs in the range 1\n",
            "{'accuracy': 0.24444444444444444, 'sensitivity/recall': 0.08, 'specificity': 0.37037037037037035, 'precision': 0.05555555555555555, 'F1': 0.06557377049180328}\n",
            "\n",
            "Performance with respect to EFFRs in the range 2\n",
            "{'accuracy': 0.24444444444444444, 'sensitivity/recall': 0.0, 'specificity': 1.0, 'precision': None, 'F1': None}\n",
            "\n",
            "Performance with respect to EFFRs in the range 3\n",
            "{'accuracy': 0.24444444444444444, 'sensitivity/recall': 0.0, 'specificity': 1.0, 'precision': None, 'F1': None}\n",
            "\n"
          ]
        }
      ]
    },
    {
      "cell_type": "markdown",
      "source": [
        "**ANSWER TO QUESTION #1: Can our models predict future Federal Reserve interest rate decisions just based on\n",
        "economic and market data? How dependent is the Federal Reserve on economic data\n",
        "really?**"
      ],
      "metadata": {
        "id": "GNEmmK77uXXo"
      }
    },
    {
      "cell_type": "markdown",
      "source": [
        "Our models seem to do a great job of predicting interest rate decisions just based on economic and market data. Both our scikit-learn decision tree and scikit-learn neural network achieve roughly 85% testing accuracy when classifying month-year combinations as having interest rate within specific ranges of percents. \n",
        "\n",
        "While the corresponding lab-based decision tree performs worse than its scikit-learn counterpart, it still achieves almost 60% accuracy (being much better than a random guess, which would yield roughly 25% accuracy). Our lab-based neural network is slightly worse than a random guess, but this is understandable given its primitive nature (having only one neuron and one layer).\n",
        "\n",
        "At the very least, economic data seems to be heavily associated with federal reserve interest rate decisions."
      ],
      "metadata": {
        "id": "j2KcJ1nxujdZ"
      }
    },
    {
      "cell_type": "markdown",
      "source": [
        "***Question #2: Do different time periods (e.g., the \"stagflation\" era, 2008 recession, and post-Covid) have\n",
        "different relationships between the features and federal interest rates?***"
      ],
      "metadata": {
        "id": "QzVtQZPcwBfG"
      }
    },
    {
      "cell_type": "code",
      "source": [
        "from sklearn.tree import DecisionTreeClassifier\n",
        "from sklearn.tree import plot_tree\n",
        "from sklearn.inspection import permutation_importance"
      ],
      "metadata": {
        "id": "5ucNF0i25lkQ"
      },
      "execution_count": null,
      "outputs": []
    },
    {
      "cell_type": "code",
      "source": [
        "# Feature Importance Function (Slightly-Modified from Lab 2)\n",
        "\n",
        "def feat_importance(tree, Xtrain, Xtest, ytest, orig_preds, npermutations = 1000):\n",
        "    # initialize what we are going to return\n",
        "    importances = {}\n",
        "    for col in Xtrain.columns:\n",
        "        importances[col] = 0\n",
        "    # find the original accuracy\n",
        "    orig_accuracy = accuracy_score(ytest, orig_preds)\n",
        "    # now carray out the feature importance work\n",
        "    for col in Xtrain.columns:\n",
        "        for perm in range(npermutations):\n",
        "            Xtest2 = Xtest.copy()\n",
        "            Xtest2[col] = Xtest[col].sample(frac=1, replace=False).values\n",
        "            preds = tree.predict(Xtest2)\n",
        "            perm_accuracy = accuracy_score(ytest, preds)\n",
        "            importances[col] += orig_accuracy - perm_accuracy\n",
        "        importances[col] = importances[col]/npermutations\n",
        "    return importances"
      ],
      "metadata": {
        "id": "VfNp9SJu-UTv"
      },
      "execution_count": null,
      "outputs": []
    },
    {
      "cell_type": "markdown",
      "source": [
        "(For reference, here are the feature importances for the full dataset):"
      ],
      "metadata": {
        "id": "hwsn45_VEaZe"
      }
    },
    {
      "cell_type": "code",
      "source": [
        "# Getting features and target for each data frame\n",
        "X = fin_df.drop([\"EffectiveFederalFundsRate\", \"EFFR_Group\"], axis=1)\n",
        "y = fin_df[\"EFFR_Group\"]\n",
        "\n",
        "# Getting training and testing data\n",
        "np.random.seed(17)\n",
        "X_train, y_train, X_test, y_test = train_test_splits(X, y, test_frac = 0.25)\n",
        "\n",
        "# Training\n",
        "tree = DecisionTreeClassifier(criterion = \"entropy\", max_depth = 10, ccp_alpha = 0.005, random_state = 17, min_impurity_decrease=0.000001).fit(X_train, y_train)\n",
        "plot_tree(tree)\n",
        "plt.show()\n",
        "\n",
        "# Testing\n",
        "preds = tree.predict(X_test)\n",
        "truths = y_test\n",
        "\n",
        "# Evaluation\n",
        "labels = list(pd.Series(pd.Series(groups).unique()).sort_values())\n",
        "print(lab_conf_matrix(truths, preds, labels))\n",
        "\n",
        "# Accuracy\n",
        "print(\"Accuracy Score: \" + str(accuracy_score(truths, preds)))"
      ],
      "metadata": {
        "colab": {
          "base_uri": "https://localhost:8080/",
          "height": 352
        },
        "id": "3U2CQ1Y9EjlI",
        "outputId": "1c3a9577-64b4-4775-bbda-f1c801b68d59"
      },
      "execution_count": null,
      "outputs": [
        {
          "output_type": "display_data",
          "data": {
            "text/plain": [
              "<Figure size 432x288 with 1 Axes>"
            ],
            "image/png": "[encoded data removed]"
          },
          "metadata": {
            "needs_background": "light"
          }
        },
        {
          "output_type": "stream",
          "name": "stdout",
          "text": [
            "               [0.05, 1.225) [1.225, 4.99) [4.99, 7.1125) [7.1125, 19.1]\n",
            "[0.05, 1.225)             31             2              0              0\n",
            "[1.225, 4.99)              3            30              8              0\n",
            "[4.99, 7.1125)             0             5             35              3\n",
            "[7.1125, 19.1]             0             0              2             30\n",
            "Accuracy Score: 0.8456375838926175\n"
          ]
        }
      ]
    },
    {
      "cell_type": "code",
      "source": [
        "# Feature Importance (Lab Implementation)\n",
        "np.random.seed(17)\n",
        "print(feat_importance(tree, X_train, X_test, y_test, preds))"
      ],
      "metadata": {
        "id": "s5d3-6QfFPZL",
        "colab": {
          "base_uri": "https://localhost:8080/"
        },
        "outputId": "b1a19503-5cec-4336-b04f-4ae8b797b4a3"
      },
      "execution_count": null,
      "outputs": [
        {
          "output_type": "stream",
          "name": "stdout",
          "text": [
            "{'RealGDP ': 0.0781073825503355, 'UnemploymentRate': 0.2917114093959736, 'InflationRate': 0.2860134228187926, 'CorePCE': 0.4638590604026832}\n"
          ]
        }
      ]
    },
    {
      "cell_type": "code",
      "source": [
        "# Feature Importance (Sklearn Implementation)\n",
        "np.random.seed(17)\n",
        "perm_importances = permutation_importance(tree, X_test, y_test, scoring = \"accuracy\", n_repeats = 1000, random_state = 17)\n",
        "print(\"Average Feature Importance: \" + str(perm_importances[\"importances_mean\"]))\n",
        "print(\"Standard Deviation of Feature Importance: \" + str(perm_importances[\"importances_std\"]))"
      ],
      "metadata": {
        "colab": {
          "base_uri": "https://localhost:8080/"
        },
        "id": "1WZDRgk87CgL",
        "outputId": "8dd0b686-07f1-4d14-f682-5fa8e96a7273"
      },
      "execution_count": null,
      "outputs": [
        {
          "output_type": "stream",
          "name": "stdout",
          "text": [
            "Average Feature Importance: [0.07957047 0.2916443  0.28557718 0.46316107]\n",
            "Standard Deviation of Feature Importance: [0.02233323 0.03149502 0.02841345 0.03569364]\n"
          ]
        }
      ]
    },
    {
      "cell_type": "markdown",
      "source": [
        "This question can be explored by using feature importance and data subsetting. First, we must divide the data into smaller datasets (each corresponding to a notable time period)."
      ],
      "metadata": {
        "id": "nrNqsj7YwKjT"
      }
    },
    {
      "cell_type": "code",
      "source": [
        "# Assigning each data point to a time period\n",
        "time_df = deepcopy(fin_df)\n",
        "\n",
        "time_periods = [\"Stagflation\", \"Reagan/Bush\", \"Clinton\", \"War on Terror\", \"Recession\", \"Trump\", \"Covid/Post-Covid\"]\n",
        "data_time_periods = []\n",
        "\n",
        "for i in fin_df.index:\n",
        "  year = int(i[:4])\n",
        "  if year <= 1982:\n",
        "    data_time_periods.append(time_periods[0])\n",
        "  elif year <= 1992:\n",
        "    data_time_periods.append(time_periods[1])\n",
        "  elif year <= 2000:\n",
        "    data_time_periods.append(time_periods[2])\n",
        "  elif year <= 2007:\n",
        "    data_time_periods.append(time_periods[3])\n",
        "  elif year <= 2015:\n",
        "    data_time_periods.append(time_periods[4])\n",
        "  elif year <= 2019:\n",
        "    data_time_periods.append(time_periods[5])\n",
        "  else:\n",
        "    data_time_periods.append(time_periods[6])\n",
        "\n",
        "time_df[\"TimePeriod\"] = data_time_periods"
      ],
      "metadata": {
        "id": "x3EyRUuxwXEz"
      },
      "execution_count": null,
      "outputs": []
    },
    {
      "cell_type": "code",
      "source": [
        "# Subsetting the data\n",
        "stag_df = time_df[time_df[\"TimePeriod\"] == time_periods[0]]\n",
        "reagan_df = time_df[time_df[\"TimePeriod\"] == time_periods[1]]\n",
        "clint_df = time_df[time_df[\"TimePeriod\"] == time_periods[2]]\n",
        "terror_df = time_df[time_df[\"TimePeriod\"] == time_periods[3]]\n",
        "recess_df = time_df[time_df[\"TimePeriod\"] == time_periods[4]]\n",
        "trump_df = time_df[time_df[\"TimePeriod\"] == time_periods[5]]\n",
        "covid_df = time_df[time_df[\"TimePeriod\"] == time_periods[6]]"
      ],
      "metadata": {
        "id": "NfwAOGygzRQr"
      },
      "execution_count": null,
      "outputs": []
    },
    {
      "cell_type": "markdown",
      "source": [
        "Now, we will prepare the response variable for each subset. This will be categories corresponding to intervals dictated by the five-number summary."
      ],
      "metadata": {
        "id": "VFMrJaCaOY0X"
      }
    },
    {
      "cell_type": "code",
      "source": [
        "# Creating all subset intervals\n",
        "five_num_sum_stag = []\n",
        "five_num_sum_reagan = []\n",
        "five_num_sum_clint = []\n",
        "five_num_sum_terror = []\n",
        "five_num_sum_recess = []\n",
        "five_num_sum_trump = []\n",
        "five_num_sum_covid = []\n",
        "for q in [0, 0.25, 0.5, 0.75, 1]:\n",
        "  five_num_sum_stag.append(np.quantile(stag_df[\"EffectiveFederalFundsRate\"], q = q))\n",
        "  five_num_sum_reagan.append(np.quantile(reagan_df[\"EffectiveFederalFundsRate\"], q = q))\n",
        "  five_num_sum_clint.append(np.quantile(clint_df[\"EffectiveFederalFundsRate\"], q = q))\n",
        "  five_num_sum_terror.append(np.quantile(terror_df[\"EffectiveFederalFundsRate\"], q = q))\n",
        "  five_num_sum_recess.append(np.quantile(recess_df[\"EffectiveFederalFundsRate\"], q = q))\n",
        "  five_num_sum_trump.append(np.quantile(trump_df[\"EffectiveFederalFundsRate\"], q = q))\n",
        "  five_num_sum_covid.append(np.quantile(covid_df[\"EffectiveFederalFundsRate\"], q = q))\n",
        "print(five_num_sum_stag)\n",
        "print(five_num_sum_reagan)\n",
        "print(five_num_sum_clint)\n",
        "print(five_num_sum_terror)\n",
        "print(five_num_sum_recess)\n",
        "print(five_num_sum_trump)\n",
        "print(five_num_sum_covid)"
      ],
      "metadata": {
        "id": "ejhOWGMxALmZ",
        "colab": {
          "base_uri": "https://localhost:8080/"
        },
        "outputId": "815030a6-3237-4070-f364-5565e6a4e0c6"
      },
      "execution_count": null,
      "outputs": [
        {
          "output_type": "stream",
          "name": "stdout",
          "text": [
            "[4.61, 6.14, 9.54, 12.1, 19.1]\n",
            "[2.92, 6.415, 7.945, 8.7625, 11.64]\n",
            "[2.96, 4.74, 5.31, 5.56, 6.54]\n",
            "[0.98, 1.4075, 2.71, 4.7925, 5.98]\n",
            "[0.07, 0.09, 0.14, 0.18, 3.94]\n",
            "[0.34, 0.6225, 1.335, 1.9649999999999999, 2.45]\n",
            "[0.05, 0.07, 0.08, 0.33, 3.08]\n"
          ]
        }
      ]
    },
    {
      "cell_type": "code",
      "source": [
        "# Creating new categories based on the five number summary\n",
        "\n",
        "groups_stag = []\n",
        "for r in stag_df[\"EffectiveFederalFundsRate\"]:\n",
        "  for i, mn in enumerate(five_num_sum_stag):\n",
        "    if mn == five_num_sum_stag[-1]:\n",
        "      break\n",
        "    mx = five_num_sum_stag[i+1]\n",
        "    if mx == five_num_sum_stag[-1]:\n",
        "      if r >= mn and r <= mx:\n",
        "        cur_group = '[' + str(mn) + ', ' + str(mx) + ']'\n",
        "        groups_stag.append(cur_group)\n",
        "        break\n",
        "    elif r >= mn and r < mx:\n",
        "      cur_group = '[' + str(mn) + ', ' + str(mx) + ')'\n",
        "      groups_stag.append(cur_group)\n",
        "      break\n",
        "print(groups_stag[:5])\n",
        "\n",
        "stag_df[\"New_EFFR_Group\"] = groups_stag"
      ],
      "metadata": {
        "id": "jTb3hL2pOtya",
        "colab": {
          "base_uri": "https://localhost:8080/"
        },
        "outputId": "0ec9479b-4cdf-4549-e0f9-12e3dc13c9f0"
      },
      "execution_count": null,
      "outputs": [
        {
          "output_type": "stream",
          "name": "stdout",
          "text": [
            "['[4.61, 6.14)', '[6.14, 9.54)', '[6.14, 9.54)', '[6.14, 9.54)', '[6.14, 9.54)']\n"
          ]
        },
        {
          "output_type": "stream",
          "name": "stderr",
          "text": [
            "<ipython-input-95-41f0a427a531>:20: SettingWithCopyWarning: \n",
            "A value is trying to be set on a copy of a slice from a DataFrame.\n",
            "Try using .loc[row_indexer,col_indexer] = value instead\n",
            "\n",
            "See the caveats in the documentation: https://pandas.pydata.org/pandas-docs/stable/user_guide/indexing.html#returning-a-view-versus-a-copy\n",
            "  stag_df[\"New_EFFR_Group\"] = groups_stag\n"
          ]
        }
      ]
    },
    {
      "cell_type": "code",
      "source": [
        "groups_reagan = []\n",
        "for r in reagan_df[\"EffectiveFederalFundsRate\"]:\n",
        "  for i, mn in enumerate(five_num_sum_reagan):\n",
        "    if mn == five_num_sum_reagan[-1]:\n",
        "      break\n",
        "    mx = five_num_sum_reagan[i+1]\n",
        "    if mx == five_num_sum_reagan[-1]:\n",
        "      if r >= mn and r <= mx:\n",
        "        cur_group = '[' + str(mn) + ', ' + str(mx) + ']'\n",
        "        groups_reagan.append(cur_group)\n",
        "        break\n",
        "    elif r >= mn and r < mx:\n",
        "      cur_group = '[' + str(mn) + ', ' + str(mx) + ')'\n",
        "      groups_reagan.append(cur_group)\n",
        "      break\n",
        "print(groups_reagan[:5])\n",
        "\n",
        "reagan_df[\"New_EFFR_Group\"] = groups_reagan"
      ],
      "metadata": {
        "id": "90Tc_6LVPG70",
        "colab": {
          "base_uri": "https://localhost:8080/"
        },
        "outputId": "6e3acd22-be67-458d-b312-4307bd9c8908"
      },
      "execution_count": null,
      "outputs": [
        {
          "output_type": "stream",
          "name": "stdout",
          "text": [
            "['[7.945, 8.7625)', '[7.945, 8.7625)', '[8.7625, 11.64]', '[8.7625, 11.64]', '[7.945, 8.7625)']\n"
          ]
        },
        {
          "output_type": "stream",
          "name": "stderr",
          "text": [
            "<ipython-input-96-89c74d589d2d>:18: SettingWithCopyWarning: \n",
            "A value is trying to be set on a copy of a slice from a DataFrame.\n",
            "Try using .loc[row_indexer,col_indexer] = value instead\n",
            "\n",
            "See the caveats in the documentation: https://pandas.pydata.org/pandas-docs/stable/user_guide/indexing.html#returning-a-view-versus-a-copy\n",
            "  reagan_df[\"New_EFFR_Group\"] = groups_reagan\n"
          ]
        }
      ]
    },
    {
      "cell_type": "code",
      "source": [
        "groups_clint = []\n",
        "for r in clint_df[\"EffectiveFederalFundsRate\"]:\n",
        "  for i, mn in enumerate(five_num_sum_clint):\n",
        "    if mn == five_num_sum_clint[-1]:\n",
        "      break\n",
        "    mx = five_num_sum_clint[i+1]\n",
        "    if mx == five_num_sum_clint[-1]:\n",
        "      if r >= mn and r <= mx:\n",
        "        cur_group = '[' + str(mn) + ', ' + str(mx) + ']'\n",
        "        groups_clint.append(cur_group)\n",
        "        break\n",
        "    elif r >= mn and r < mx:\n",
        "      cur_group = '[' + str(mn) + ', ' + str(mx) + ')'\n",
        "      groups_clint.append(cur_group)\n",
        "      break\n",
        "print(groups_clint[:5])\n",
        "\n",
        "clint_df[\"New_EFFR_Group\"] = groups_clint"
      ],
      "metadata": {
        "id": "OMZ0Uf3oPHOy",
        "colab": {
          "base_uri": "https://localhost:8080/"
        },
        "outputId": "9659a7eb-af6d-4d5e-a148-9f30a1c51a50"
      },
      "execution_count": null,
      "outputs": [
        {
          "output_type": "stream",
          "name": "stdout",
          "text": [
            "['[2.96, 4.74)', '[2.96, 4.74)', '[2.96, 4.74)', '[2.96, 4.74)', '[2.96, 4.74)']\n"
          ]
        },
        {
          "output_type": "stream",
          "name": "stderr",
          "text": [
            "<ipython-input-97-93d3c29b2db9>:18: SettingWithCopyWarning: \n",
            "A value is trying to be set on a copy of a slice from a DataFrame.\n",
            "Try using .loc[row_indexer,col_indexer] = value instead\n",
            "\n",
            "See the caveats in the documentation: https://pandas.pydata.org/pandas-docs/stable/user_guide/indexing.html#returning-a-view-versus-a-copy\n",
            "  clint_df[\"New_EFFR_Group\"] = groups_clint\n"
          ]
        }
      ]
    },
    {
      "cell_type": "code",
      "source": [
        "groups_terror = []\n",
        "for r in terror_df[\"EffectiveFederalFundsRate\"]:\n",
        "  for i, mn in enumerate(five_num_sum_terror):\n",
        "    if mn == five_num_sum_terror[-1]:\n",
        "      break\n",
        "    mx = five_num_sum_terror[i+1]\n",
        "    if mx == five_num_sum_terror[-1]:\n",
        "      if r >= mn and r <= mx:\n",
        "        cur_group = '[' + str(mn) + ', ' + str(mx) + ']'\n",
        "        groups_terror.append(cur_group)\n",
        "        break\n",
        "    elif r >= mn and r < mx:\n",
        "      cur_group = '[' + str(mn) + ', ' + str(mx) + ')'\n",
        "      groups_terror.append(cur_group)\n",
        "      break\n",
        "print(groups_terror[:5])\n",
        "\n",
        "terror_df[\"New_EFFR_Group\"] = groups_terror"
      ],
      "metadata": {
        "id": "jawN6_eNPHcR",
        "colab": {
          "base_uri": "https://localhost:8080/"
        },
        "outputId": "ed38454d-9114-4693-fb59-1a6ac0112293"
      },
      "execution_count": null,
      "outputs": [
        {
          "output_type": "stream",
          "name": "stdout",
          "text": [
            "['[4.7925, 5.98]', '[4.7925, 5.98]', '[4.7925, 5.98]', '[4.7925, 5.98]', '[2.71, 4.7925)']\n"
          ]
        },
        {
          "output_type": "stream",
          "name": "stderr",
          "text": [
            "<ipython-input-98-690c8fc76078>:18: SettingWithCopyWarning: \n",
            "A value is trying to be set on a copy of a slice from a DataFrame.\n",
            "Try using .loc[row_indexer,col_indexer] = value instead\n",
            "\n",
            "See the caveats in the documentation: https://pandas.pydata.org/pandas-docs/stable/user_guide/indexing.html#returning-a-view-versus-a-copy\n",
            "  terror_df[\"New_EFFR_Group\"] = groups_terror\n"
          ]
        }
      ]
    },
    {
      "cell_type": "code",
      "source": [
        "groups_recess = []\n",
        "for r in recess_df[\"EffectiveFederalFundsRate\"]:\n",
        "  for i, mn in enumerate(five_num_sum_recess):\n",
        "    if mn == five_num_sum_recess[-1]:\n",
        "      break\n",
        "    mx = five_num_sum_recess[i+1]\n",
        "    if mx == five_num_sum_recess[-1]:\n",
        "      if r >= mn and r <= mx:\n",
        "        cur_group = '[' + str(mn) + ', ' + str(mx) + ']'\n",
        "        groups_recess.append(cur_group)\n",
        "        break\n",
        "    elif r >= mn and r < mx:\n",
        "      cur_group = '[' + str(mn) + ', ' + str(mx) + ')'\n",
        "      groups_recess.append(cur_group)\n",
        "      break\n",
        "print(groups_recess[:5])\n",
        "\n",
        "recess_df[\"New_EFFR_Group\"] = groups_recess"
      ],
      "metadata": {
        "id": "oFlQtogXPHll",
        "colab": {
          "base_uri": "https://localhost:8080/"
        },
        "outputId": "39aaadf4-1de4-40f7-b2d6-feac86edf4e5"
      },
      "execution_count": null,
      "outputs": [
        {
          "output_type": "stream",
          "name": "stdout",
          "text": [
            "['[0.18, 3.94]', '[0.18, 3.94]', '[0.18, 3.94]', '[0.18, 3.94]', '[0.18, 3.94]']\n"
          ]
        },
        {
          "output_type": "stream",
          "name": "stderr",
          "text": [
            "<ipython-input-99-cf8109ad8cde>:18: SettingWithCopyWarning: \n",
            "A value is trying to be set on a copy of a slice from a DataFrame.\n",
            "Try using .loc[row_indexer,col_indexer] = value instead\n",
            "\n",
            "See the caveats in the documentation: https://pandas.pydata.org/pandas-docs/stable/user_guide/indexing.html#returning-a-view-versus-a-copy\n",
            "  recess_df[\"New_EFFR_Group\"] = groups_recess\n"
          ]
        }
      ]
    },
    {
      "cell_type": "code",
      "source": [
        "groups_trump = []\n",
        "for r in trump_df[\"EffectiveFederalFundsRate\"]:\n",
        "  for i, mn in enumerate(five_num_sum_trump):\n",
        "    if mn == five_num_sum_trump[-1]:\n",
        "      break\n",
        "    mx = five_num_sum_trump[i+1]\n",
        "    if mx == five_num_sum_trump[-1]:\n",
        "      if r >= mn and r <= mx:\n",
        "        cur_group = '[' + str(mn) + ', ' + str(mx) + ']'\n",
        "        groups_trump.append(cur_group)\n",
        "        break\n",
        "    elif r >= mn and r < mx:\n",
        "      cur_group = '[' + str(mn) + ', ' + str(mx) + ')'\n",
        "      groups_trump.append(cur_group)\n",
        "      break\n",
        "print(groups_trump[:5])\n",
        "\n",
        "trump_df[\"New_EFFR_Group\"] = groups_trump"
      ],
      "metadata": {
        "id": "kPg7Cs_VPHs-",
        "colab": {
          "base_uri": "https://localhost:8080/"
        },
        "outputId": "1b24345c-5e40-4d31-b8d7-5f4444f06057"
      },
      "execution_count": null,
      "outputs": [
        {
          "output_type": "stream",
          "name": "stdout",
          "text": [
            "['[0.34, 0.6225)', '[0.34, 0.6225)', '[0.34, 0.6225)', '[0.34, 0.6225)', '[0.34, 0.6225)']\n"
          ]
        },
        {
          "output_type": "stream",
          "name": "stderr",
          "text": [
            "<ipython-input-100-f35d6fbbb2a9>:18: SettingWithCopyWarning: \n",
            "A value is trying to be set on a copy of a slice from a DataFrame.\n",
            "Try using .loc[row_indexer,col_indexer] = value instead\n",
            "\n",
            "See the caveats in the documentation: https://pandas.pydata.org/pandas-docs/stable/user_guide/indexing.html#returning-a-view-versus-a-copy\n",
            "  trump_df[\"New_EFFR_Group\"] = groups_trump\n"
          ]
        }
      ]
    },
    {
      "cell_type": "code",
      "source": [
        "groups_covid = []\n",
        "for r in covid_df[\"EffectiveFederalFundsRate\"]:\n",
        "  for i, mn in enumerate(five_num_sum_covid):\n",
        "    if mn == five_num_sum_covid[-1]:\n",
        "      break\n",
        "    mx = five_num_sum_covid[i+1]\n",
        "    if mx == five_num_sum_covid[-1]:\n",
        "      if r >= mn and r <= mx:\n",
        "        cur_group = '[' + str(mn) + ', ' + str(mx) + ']'\n",
        "        groups_covid.append(cur_group)\n",
        "        break\n",
        "    elif r >= mn and r < mx:\n",
        "      cur_group = '[' + str(mn) + ', ' + str(mx) + ')'\n",
        "      groups_covid.append(cur_group)\n",
        "      break\n",
        "print(groups_covid[:5])\n",
        "\n",
        "covid_df[\"New_EFFR_Group\"] = groups_covid"
      ],
      "metadata": {
        "id": "oLeeKsivPH5P",
        "colab": {
          "base_uri": "https://localhost:8080/"
        },
        "outputId": "2cc340ea-0733-439a-b44b-5313e784a6c5"
      },
      "execution_count": null,
      "outputs": [
        {
          "output_type": "stream",
          "name": "stdout",
          "text": [
            "['[0.33, 3.08]', '[0.33, 3.08]', '[0.08, 0.33)', '[0.05, 0.07)', '[0.05, 0.07)']\n"
          ]
        },
        {
          "output_type": "stream",
          "name": "stderr",
          "text": [
            "<ipython-input-101-b85a866f0970>:18: SettingWithCopyWarning: \n",
            "A value is trying to be set on a copy of a slice from a DataFrame.\n",
            "Try using .loc[row_indexer,col_indexer] = value instead\n",
            "\n",
            "See the caveats in the documentation: https://pandas.pydata.org/pandas-docs/stable/user_guide/indexing.html#returning-a-view-versus-a-copy\n",
            "  covid_df[\"New_EFFR_Group\"] = groups_covid\n"
          ]
        }
      ]
    },
    {
      "cell_type": "markdown",
      "source": [
        "Now we will train, test, and evaluate each model using the scikit-learn decision tree. While the scikit-learn neural network technically performs slightly better on our data, the explainability of the scikit-learn decision tree may help us better compare time periods to one another in terms of feature importance."
      ],
      "metadata": {
        "id": "aBe2fg8p12Im"
      }
    },
    {
      "cell_type": "code",
      "source": [
        "# Getting features and target for each data frame\n",
        "\n",
        "X_stag = stag_df.drop([\"TimePeriod\", \"EffectiveFederalFundsRate\", \"EFFR_Group\", \"New_EFFR_Group\"], axis=1)\n",
        "y_stag = stag_df[\"New_EFFR_Group\"]\n",
        "\n",
        "X_reagan = reagan_df.drop([\"TimePeriod\", \"EffectiveFederalFundsRate\", \"EFFR_Group\", \"New_EFFR_Group\"], axis=1)\n",
        "y_reagan = reagan_df[\"New_EFFR_Group\"]\n",
        "\n",
        "X_clint = clint_df.drop([\"TimePeriod\", \"EffectiveFederalFundsRate\", \"EFFR_Group\", \"New_EFFR_Group\"], axis=1)\n",
        "y_clint = clint_df[\"New_EFFR_Group\"]\n",
        "\n",
        "X_terror = terror_df.drop([\"TimePeriod\", \"EffectiveFederalFundsRate\", \"EFFR_Group\", \"New_EFFR_Group\"], axis=1)\n",
        "y_terror = terror_df[\"New_EFFR_Group\"]\n",
        "\n",
        "X_recess = recess_df.drop([\"TimePeriod\", \"EffectiveFederalFundsRate\", \"EFFR_Group\", \"New_EFFR_Group\"], axis=1)\n",
        "y_recess = recess_df[\"New_EFFR_Group\"]\n",
        "\n",
        "X_trump = trump_df.drop([\"TimePeriod\", \"EffectiveFederalFundsRate\", \"EFFR_Group\", \"New_EFFR_Group\"], axis=1)\n",
        "y_trump = trump_df[\"New_EFFR_Group\"]\n",
        "\n",
        "X_covid = covid_df.drop([\"TimePeriod\", \"EffectiveFederalFundsRate\", \"EFFR_Group\", \"New_EFFR_Group\"], axis=1)\n",
        "y_covid = covid_df[\"New_EFFR_Group\"]"
      ],
      "metadata": {
        "id": "AmB0KUYD11J9"
      },
      "execution_count": null,
      "outputs": []
    },
    {
      "cell_type": "markdown",
      "source": [
        "Stagflation Era"
      ],
      "metadata": {
        "id": "WxTvMTTq486r"
      }
    },
    {
      "cell_type": "code",
      "source": [
        "# Getting training and testing data\n",
        "np.random.seed(17)\n",
        "X_train, y_train, X_test, y_test = train_test_splits(X_stag, y_stag, test_frac = 0.3)\n",
        "\n",
        "# Training\n",
        "tree = DecisionTreeClassifier(criterion = \"entropy\", max_depth = 10, ccp_alpha = 0.005, random_state = 17, min_impurity_decrease=0.000001).fit(X_train, y_train)\n",
        "plot_tree(tree)\n",
        "plt.show()\n",
        "\n",
        "# Testing\n",
        "preds = tree.predict(X_test)\n",
        "truths = y_test\n",
        "\n",
        "\n",
        "# Evaluation\n",
        "labels = list(pd.Series(pd.Series(groups_stag).unique()).sort_values())\n",
        "\n",
        "new_labels = []\n",
        "for klass in labels:\n",
        "  if klass in list(y_train):\n",
        "    new_labels.append(klass)\n",
        "\n",
        "print(lab_conf_matrix(truths, preds, new_labels))\n",
        "\n",
        "\n",
        "# Accuracy\n",
        "print(\"Accuracy Score: \" + str(accuracy_score(truths, preds)))"
      ],
      "metadata": {
        "id": "1x7ty7Dc46Lx",
        "colab": {
          "base_uri": "https://localhost:8080/",
          "height": 352
        },
        "outputId": "d4f271f2-2fb0-4ea8-89a6-b7ad417ef407"
      },
      "execution_count": null,
      "outputs": [
        {
          "output_type": "display_data",
          "data": {
            "text/plain": [
              "<Figure size 432x288 with 1 Axes>"
            ],
            "image/png": "[encoded data removed]"
          },
          "metadata": {
            "needs_background": "light"
          }
        },
        {
          "output_type": "stream",
          "name": "stdout",
          "text": [
            "             [12.1, 19.1] [4.61, 6.14) [6.14, 9.54) [9.54, 12.1)\n",
            "[12.1, 19.1]            6            3            0            1\n",
            "[4.61, 6.14)            0            7            0            0\n",
            "[6.14, 9.54)            1            3            7            0\n",
            "[9.54, 12.1)            1            0            2            5\n",
            "Accuracy Score: 0.6944444444444444\n"
          ]
        }
      ]
    },
    {
      "cell_type": "code",
      "source": [
        "# Feature Importance (Lab Implementation)\n",
        "np.random.seed(17)\n",
        "print(feat_importance(tree, X_train, X_test, y_test, preds))"
      ],
      "metadata": {
        "id": "bPs2i54V-Qmd",
        "colab": {
          "base_uri": "https://localhost:8080/"
        },
        "outputId": "f399be8e-03f3-4738-de65-9f9d86a7a9f9"
      },
      "execution_count": null,
      "outputs": [
        {
          "output_type": "stream",
          "name": "stdout",
          "text": [
            "{'RealGDP ': 0.07266666666666725, 'UnemploymentRate': 0.33680555555555475, 'InflationRate': 0.23780555555555574, 'CorePCE': -0.010166666666666704}\n"
          ]
        }
      ]
    },
    {
      "cell_type": "code",
      "source": [
        "# Feature Importance (Sklearn Implementation)\n",
        "np.random.seed(17)\n",
        "perm_importances = permutation_importance(tree, X_test, y_test, scoring = \"accuracy\", n_repeats = 1000, random_state = 17)\n",
        "print(\"Average Feature Importance: \" + str(perm_importances[\"importances_mean\"]))\n",
        "print(\"Standard Deviation of Feature Importance: \" + str(perm_importances[\"importances_std\"]))"
      ],
      "metadata": {
        "colab": {
          "base_uri": "https://localhost:8080/"
        },
        "id": "FhhH0O2T8VOm",
        "outputId": "adf40294-a7a9-450e-b4f7-0e87021d6384"
      },
      "execution_count": null,
      "outputs": [
        {
          "output_type": "stream",
          "name": "stdout",
          "text": [
            "Average Feature Importance: [ 0.07294444  0.33863889  0.23797222 -0.00938889]\n",
            "Standard Deviation of Feature Importance: [0.03381737 0.07425826 0.06938615 0.01313968]\n"
          ]
        }
      ]
    },
    {
      "cell_type": "markdown",
      "source": [
        "Reagan/Bush Era"
      ],
      "metadata": {
        "id": "4fwfuITnBXyg"
      }
    },
    {
      "cell_type": "code",
      "source": [
        "# Getting training and testing data\n",
        "np.random.seed(17)\n",
        "X_train, y_train, X_test, y_test = train_test_splits(X_reagan, y_reagan, 0.3)\n",
        "\n",
        "# Training\n",
        "tree = DecisionTreeClassifier(criterion = \"entropy\", max_depth = 10, ccp_alpha = 0.005, random_state = 17, min_impurity_decrease=0.000001).fit(X_train, y_train)\n",
        "plot_tree(tree)\n",
        "plt.show()\n",
        "\n",
        "# Testing\n",
        "preds = tree.predict(X_test)\n",
        "truths = y_test\n",
        "\n",
        "\n",
        "# Evaluation\n",
        "labels = list(pd.Series(pd.Series(groups_reagan).unique()).sort_values())\n",
        "\n",
        "new_labels = []\n",
        "for klass in labels:\n",
        "  if klass in list(y_train):\n",
        "    new_labels.append(klass)\n",
        "\n",
        "print(lab_conf_matrix(truths, preds, new_labels))\n",
        "\n",
        "\n",
        "# Accuracy\n",
        "print(\"Accuracy Score: \" + str(accuracy_score(truths, preds)))"
      ],
      "metadata": {
        "id": "sq1GuZ0wBXyl",
        "colab": {
          "base_uri": "https://localhost:8080/",
          "height": 352
        },
        "outputId": "2464bd66-27fa-4616-f7e1-ac999ab9e970"
      },
      "execution_count": null,
      "outputs": [
        {
          "output_type": "display_data",
          "data": {
            "text/plain": [
              "<Figure size 432x288 with 1 Axes>"
            ],
            "image/png": "[encoded data removed]"
          },
          "metadata": {
            "needs_background": "light"
          }
        },
        {
          "output_type": "stream",
          "name": "stdout",
          "text": [
            "                [2.92, 6.415) [6.415, 7.945) [7.945, 8.7625) [8.7625, 11.64]\n",
            "[2.92, 6.415)               9              3               0               0\n",
            "[6.415, 7.945)              0              6               5               1\n",
            "[7.945, 8.7625)             0              2               2               0\n",
            "[8.7625, 11.64]             0              0               2               6\n",
            "Accuracy Score: 0.6388888888888888\n"
          ]
        }
      ]
    },
    {
      "cell_type": "code",
      "source": [
        "# Feature Importance (Lab Implementation)\n",
        "np.random.seed(17)\n",
        "print(feat_importance(tree, X_train, X_test, y_test, preds))"
      ],
      "metadata": {
        "id": "V8z-qqwrBXym",
        "colab": {
          "base_uri": "https://localhost:8080/"
        },
        "outputId": "b75e500c-b9aa-4d3a-da48-9ccfc1e367eb"
      },
      "execution_count": null,
      "outputs": [
        {
          "output_type": "stream",
          "name": "stdout",
          "text": [
            "{'RealGDP ': -0.0073611111111111065, 'UnemploymentRate': 0.16638888888888917, 'InflationRate': 0.058361111111111766, 'CorePCE': 0.25086111111111137}\n"
          ]
        }
      ]
    },
    {
      "cell_type": "code",
      "source": [
        "# Feature Importance (Sklearn Implementation)\n",
        "np.random.seed(17)\n",
        "perm_importances = permutation_importance(tree, X_test, y_test, scoring = \"accuracy\", n_repeats = 1000, random_state = 17)\n",
        "print(\"Average Feature Importance: \" + str(perm_importances[\"importances_mean\"]))\n",
        "print(\"Standard Deviation of Feature Importance: \" + str(perm_importances[\"importances_std\"]))"
      ],
      "metadata": {
        "colab": {
          "base_uri": "https://localhost:8080/"
        },
        "id": "sVYLPGca8oPw",
        "outputId": "6460b771-b96c-4c55-a62c-8d67c0ddd8ff"
      },
      "execution_count": null,
      "outputs": [
        {
          "output_type": "stream",
          "name": "stdout",
          "text": [
            "Average Feature Importance: [-0.00652778  0.17230556  0.05736111  0.25008333]\n",
            "Standard Deviation of Feature Importance: [0.03193569 0.05973056 0.04165532 0.07190631]\n"
          ]
        }
      ]
    },
    {
      "cell_type": "markdown",
      "source": [
        "Clinton Era"
      ],
      "metadata": {
        "id": "kSL_zp5VBY7f"
      }
    },
    {
      "cell_type": "code",
      "source": [
        "# Getting training and testing data\n",
        "np.random.seed(17)\n",
        "X_train, y_train, X_test, y_test = train_test_splits(X_clint, y_clint, 0.3)\n",
        "\n",
        "# Training\n",
        "tree = DecisionTreeClassifier(criterion = \"entropy\", max_depth = 10, ccp_alpha = 0.005, random_state = 17, min_impurity_decrease=0.000001).fit(X_train, y_train)\n",
        "plot_tree(tree)\n",
        "plt.show()\n",
        "\n",
        "# Testing\n",
        "preds = tree.predict(X_test)\n",
        "truths = y_test\n",
        "\n",
        "\n",
        "# Evaluation\n",
        "labels = list(pd.Series(pd.Series(groups_clint).unique()).sort_values())\n",
        "\n",
        "new_labels = []\n",
        "for klass in labels:\n",
        "  if klass in list(y_train):\n",
        "    new_labels.append(klass)\n",
        "\n",
        "print(lab_conf_matrix(truths, preds, new_labels))\n",
        "\n",
        "# Accuracy\n",
        "print(\"Accuracy Score: \" + str(accuracy_score(truths, preds)))"
      ],
      "metadata": {
        "id": "9lZWKiaKBY7f",
        "colab": {
          "base_uri": "https://localhost:8080/",
          "height": 352
        },
        "outputId": "22c8edd5-cdfc-49f4-944a-ab07fafca452"
      },
      "execution_count": null,
      "outputs": [
        {
          "output_type": "display_data",
          "data": {
            "text/plain": [
              "<Figure size 432x288 with 1 Axes>"
            ],
            "image/png": "[encoded data removed]"
          },
          "metadata": {
            "needs_background": "light"
          }
        },
        {
          "output_type": "stream",
          "name": "stdout",
          "text": [
            "             [2.96, 4.74) [4.74, 5.31) [5.31, 5.56) [5.56, 6.54]\n",
            "[2.96, 4.74)            7            0            0            0\n",
            "[4.74, 5.31)            0            3            4            0\n",
            "[5.31, 5.56)            0            3            3            2\n",
            "[5.56, 6.54]            0            0            3            3\n",
            "Accuracy Score: 0.5714285714285714\n"
          ]
        }
      ]
    },
    {
      "cell_type": "code",
      "source": [
        "# Feature Importance (Lab Implementation)\n",
        "np.random.seed(17)\n",
        "print(feat_importance(tree, X_train, X_test, y_test, preds))"
      ],
      "metadata": {
        "id": "C0-mcPzcBY7f",
        "colab": {
          "base_uri": "https://localhost:8080/"
        },
        "outputId": "40a512e6-73fc-4121-82e1-8128036f9ba3"
      },
      "execution_count": null,
      "outputs": [
        {
          "output_type": "stream",
          "name": "stdout",
          "text": [
            "{'RealGDP ': 0.01471428571428571, 'UnemploymentRate': 0.3048928571428568, 'InflationRate': 0.02735714285714268, 'CorePCE': -0.0012857142857143188}\n"
          ]
        }
      ]
    },
    {
      "cell_type": "code",
      "source": [
        "# Feature Importance (Sklearn Implementation)\n",
        "np.random.seed(17)\n",
        "perm_importances = permutation_importance(tree, X_test, y_test, scoring = \"accuracy\", n_repeats = 1000, random_state = 17)\n",
        "print(\"Average Feature Importance: \" + str(perm_importances[\"importances_mean\"]))\n",
        "print(\"Standard Deviation of Feature Importance: \" + str(perm_importances[\"importances_std\"]))"
      ],
      "metadata": {
        "colab": {
          "base_uri": "https://localhost:8080/"
        },
        "id": "kKR9Eg3k81dM",
        "outputId": "566c0c30-8d95-47c1-c512-0ff7ed0a0a1d"
      },
      "execution_count": null,
      "outputs": [
        {
          "output_type": "stream",
          "name": "stdout",
          "text": [
            "Average Feature Importance: [ 0.01617857  0.30167857  0.02721429 -0.00292857]\n",
            "Standard Deviation of Feature Importance: [0.05646688 0.06863456 0.01520925 0.05531999]\n"
          ]
        }
      ]
    },
    {
      "cell_type": "markdown",
      "source": [
        "War-on-Terror Era"
      ],
      "metadata": {
        "id": "MMsse9hsBZnP"
      }
    },
    {
      "cell_type": "code",
      "source": [
        "# Getting training and testing data\n",
        "np.random.seed(17)\n",
        "X_train, y_train, X_test, y_test = train_test_splits(X_terror, y_terror, 0.3)\n",
        "\n",
        "# Training\n",
        "tree = DecisionTreeClassifier(criterion = \"entropy\", max_depth = 10, ccp_alpha = 0.005, random_state = 17, min_impurity_decrease=0.000001).fit(X_train, y_train)\n",
        "plot_tree(tree)\n",
        "plt.show()\n",
        "\n",
        "# Testing\n",
        "preds = tree.predict(X_test)\n",
        "truths = y_test\n",
        "\n",
        "\n",
        "# Evaluation\n",
        "labels = list(pd.Series(pd.Series(groups_terror).unique()).sort_values())\n",
        "\n",
        "new_labels = []\n",
        "for klass in labels:\n",
        "  if klass in list(y_train):\n",
        "    new_labels.append(klass)\n",
        "\n",
        "print(lab_conf_matrix(truths, preds, new_labels))\n",
        "\n",
        "\n",
        "# Accuracy\n",
        "print(\"Accuracy Score: \" + str(accuracy_score(truths, preds)))"
      ],
      "metadata": {
        "id": "BBMhToM4BZnQ",
        "colab": {
          "base_uri": "https://localhost:8080/",
          "height": 352
        },
        "outputId": "f695b7ae-c8a0-4ba9-9651-aa0ea3c58b60"
      },
      "execution_count": null,
      "outputs": [
        {
          "output_type": "display_data",
          "data": {
            "text/plain": [
              "<Figure size 432x288 with 1 Axes>"
            ],
            "image/png": "[encoded data removed]"
          },
          "metadata": {
            "needs_background": "light"
          }
        },
        {
          "output_type": "stream",
          "name": "stdout",
          "text": [
            "               [0.98, 1.4075) [1.4075, 2.71) [2.71, 4.7925) [4.7925, 5.98]\n",
            "[0.98, 1.4075)              7              0              0              0\n",
            "[1.4075, 2.71)              1              5              0              0\n",
            "[2.71, 4.7925)              0              0              3              4\n",
            "[4.7925, 5.98]              0              0              3              4\n",
            "Accuracy Score: 0.7037037037037037\n"
          ]
        }
      ]
    },
    {
      "cell_type": "code",
      "source": [
        "# Feature Importance (Lab Implementation)\n",
        "np.random.seed(17)\n",
        "print(feat_importance(tree, X_train, X_test, y_test, preds))"
      ],
      "metadata": {
        "id": "8B12Q8L5BZnQ",
        "colab": {
          "base_uri": "https://localhost:8080/"
        },
        "outputId": "f2d49182-9b00-4dc6-9c55-e07eca084f51"
      },
      "execution_count": null,
      "outputs": [
        {
          "output_type": "stream",
          "name": "stdout",
          "text": [
            "{'RealGDP ': 0.02425925925925937, 'UnemploymentRate': 0.400851851851853, 'InflationRate': 0.16062962962963143, 'CorePCE': 0.032925925925925914}\n"
          ]
        }
      ]
    },
    {
      "cell_type": "code",
      "source": [
        "# Feature Importance (Sklearn Implementation)\n",
        "np.random.seed(17)\n",
        "perm_importances = permutation_importance(tree, X_test, y_test, scoring = \"accuracy\", n_repeats = 1000, random_state = 17)\n",
        "print(\"Average Feature Importance: \" + str(perm_importances[\"importances_mean\"]))\n",
        "print(\"Standard Deviation of Feature Importance: \" + str(perm_importances[\"importances_std\"]))"
      ],
      "metadata": {
        "colab": {
          "base_uri": "https://localhost:8080/"
        },
        "id": "ynbyNjt89JQc",
        "outputId": "a6b5bcf7-5ac8-4016-fafa-af15013a911c"
      },
      "execution_count": null,
      "outputs": [
        {
          "output_type": "stream",
          "name": "stdout",
          "text": [
            "Average Feature Importance: [0.02466667 0.40018519 0.15737037 0.03366667]\n",
            "Standard Deviation of Feature Importance: [0.01947331 0.07914993 0.08348545 0.02950713]\n"
          ]
        }
      ]
    },
    {
      "cell_type": "markdown",
      "source": [
        "Recession Era"
      ],
      "metadata": {
        "id": "HJ3xIjyyBaKn"
      }
    },
    {
      "cell_type": "code",
      "source": [
        "# Getting training and testing data\n",
        "np.random.seed(17)\n",
        "X_train, y_train, X_test, y_test = train_test_splits(X_recess, y_recess, 0.3)\n",
        "\n",
        "# Training\n",
        "tree = DecisionTreeClassifier(criterion = \"entropy\", max_depth = 10, ccp_alpha = 0.005, random_state = 17, min_impurity_decrease=0.000001).fit(X_train, y_train)\n",
        "plot_tree(tree)\n",
        "plt.show()\n",
        "\n",
        "# Testing\n",
        "preds = tree.predict(X_test)\n",
        "truths = y_test\n",
        "\n",
        "\n",
        "# Evaluation\n",
        "labels = list(pd.Series(pd.Series(groups_recess).unique()).sort_values())\n",
        "\n",
        "new_labels = []\n",
        "for klass in labels:\n",
        "  if klass in list(y_train):\n",
        "    new_labels.append(klass)\n",
        "\n",
        "print(lab_conf_matrix(truths, preds, new_labels))\n",
        "\n",
        "\n",
        "# Accuracy\n",
        "print(\"Accuracy Score: \" + str(accuracy_score(truths, preds)))"
      ],
      "metadata": {
        "id": "kcb8sn4TBaKn",
        "colab": {
          "base_uri": "https://localhost:8080/",
          "height": 352
        },
        "outputId": "7108b72e-0c19-414e-be73-8df71e1e7357"
      },
      "execution_count": null,
      "outputs": [
        {
          "output_type": "display_data",
          "data": {
            "text/plain": [
              "<Figure size 432x288 with 1 Axes>"
            ],
            "image/png": "[encoded data removed]"
          },
          "metadata": {
            "needs_background": "light"
          }
        },
        {
          "output_type": "stream",
          "name": "stdout",
          "text": [
            "             [0.07, 0.09) [0.09, 0.14) [0.14, 0.18) [0.18, 3.94]\n",
            "[0.07, 0.09)            1            2            0            0\n",
            "[0.09, 0.14)            0            6            3            0\n",
            "[0.14, 0.18)            0            1            5            1\n",
            "[0.18, 3.94]            0            0            2            7\n",
            "Accuracy Score: 0.6785714285714286\n"
          ]
        }
      ]
    },
    {
      "cell_type": "code",
      "source": [
        "# Feature Importance (Lab Implementation)\n",
        "np.random.seed(17)\n",
        "print(feat_importance(tree, X_train, X_test, y_test, preds))"
      ],
      "metadata": {
        "id": "xG6W6UueBaKn",
        "colab": {
          "base_uri": "https://localhost:8080/"
        },
        "outputId": "12129b7a-8a6a-4749-b720-5676ddb63ff1"
      },
      "execution_count": null,
      "outputs": [
        {
          "output_type": "stream",
          "name": "stdout",
          "text": [
            "{'RealGDP ': 0.1343928571428572, 'UnemploymentRate': 0.08603571428571415, 'InflationRate': 0.2950357142857139, 'CorePCE': 0.06774999999999967}\n"
          ]
        }
      ]
    },
    {
      "cell_type": "code",
      "source": [
        "# Feature Importance (Sklearn Implementation)\n",
        "np.random.seed(17)\n",
        "perm_importances = permutation_importance(tree, X_test, y_test, scoring = \"accuracy\", n_repeats = 1000, random_state = 17)\n",
        "print(\"Average Feature Importance: \" + str(perm_importances[\"importances_mean\"]))\n",
        "print(\"Standard Deviation of Feature Importance: \" + str(perm_importances[\"importances_std\"]))"
      ],
      "metadata": {
        "colab": {
          "base_uri": "https://localhost:8080/"
        },
        "id": "pd0LXqPD9SnS",
        "outputId": "11dd9a35-8b6c-40c5-eaf2-f6f2e98f3c90"
      },
      "execution_count": null,
      "outputs": [
        {
          "output_type": "stream",
          "name": "stdout",
          "text": [
            "Average Feature Importance: [0.13507143 0.08860714 0.29339286 0.06360714]\n",
            "Standard Deviation of Feature Importance: [0.07371757 0.04204042 0.07622114 0.0582815 ]\n"
          ]
        }
      ]
    },
    {
      "cell_type": "markdown",
      "source": [
        "Trump Era"
      ],
      "metadata": {
        "id": "YnFnjm1kBaog"
      }
    },
    {
      "cell_type": "code",
      "source": [
        "# Getting training and testing data\n",
        "np.random.seed(17)\n",
        "X_train, y_train, X_test, y_test = train_test_splits(X_trump, y_trump, 0.3)\n",
        "\n",
        "# Training\n",
        "tree = DecisionTreeClassifier(criterion = \"entropy\", max_depth = 10, ccp_alpha = 0.005, random_state = 17, min_impurity_decrease=0.000001).fit(X_train, y_train)\n",
        "plot_tree(tree)\n",
        "plt.show()\n",
        "\n",
        "# Testing\n",
        "preds = tree.predict(X_test)\n",
        "truths = y_test\n",
        "\n",
        "\n",
        "# Evaluation\n",
        "labels = list(pd.Series(pd.Series(groups_trump).unique()).sort_values())\n",
        "\n",
        "new_labels = []\n",
        "for klass in labels:\n",
        "  if klass in list(y_train):\n",
        "    new_labels.append(klass)\n",
        "\n",
        "print(lab_conf_matrix(truths, preds, new_labels))\n",
        "\n",
        "\n",
        "# Accuracy\n",
        "print(\"Accuracy Score: \" + str(accuracy_score(truths, preds)))"
      ],
      "metadata": {
        "id": "fg298dVwBaoh",
        "colab": {
          "base_uri": "https://localhost:8080/",
          "height": 560
        },
        "outputId": "cbe16737-ce9f-43a8-b83b-41fa0734c7d7"
      },
      "execution_count": null,
      "outputs": [
        {
          "output_type": "display_data",
          "data": {
            "text/plain": [
              "<Figure size 432x288 with 1 Axes>"
            ],
            "image/png": "[encoded data removed]"
          },
          "metadata": {
            "needs_background": "light"
          }
        },
        {
          "output_type": "stream",
          "name": "stdout",
          "text": [
            "                            [0.34, 0.6225) [0.6225, 1.335)  \\\n",
            "[0.34, 0.6225)                           5               1   \n",
            "[0.6225, 1.335)                          0               4   \n",
            "[1.335, 1.9649999999999999)              0               0   \n",
            "[1.9649999999999999, 2.45]               0               0   \n",
            "\n",
            "                            [1.335, 1.9649999999999999)  \\\n",
            "[0.34, 0.6225)                                        0   \n",
            "[0.6225, 1.335)                                       0   \n",
            "[1.335, 1.9649999999999999)                           1   \n",
            "[1.9649999999999999, 2.45]                            1   \n",
            "\n",
            "                            [1.9649999999999999, 2.45]  \n",
            "[0.34, 0.6225)                                       0  \n",
            "[0.6225, 1.335)                                      0  \n",
            "[1.335, 1.9649999999999999)                          3  \n",
            "[1.9649999999999999, 2.45]                           1  \n",
            "Accuracy Score: 0.6875\n"
          ]
        }
      ]
    },
    {
      "cell_type": "code",
      "source": [
        "# Feature Importance (Lab Implementation)\n",
        "np.random.seed(17)\n",
        "print(feat_importance(tree, X_train, X_test, y_test, preds))"
      ],
      "metadata": {
        "id": "rQOruErwBaoh",
        "colab": {
          "base_uri": "https://localhost:8080/"
        },
        "outputId": "2e8ad952-770f-4236-e2f1-5dbdef4ca073"
      },
      "execution_count": null,
      "outputs": [
        {
          "output_type": "stream",
          "name": "stdout",
          "text": [
            "{'RealGDP ': 0.000875, 'UnemploymentRate': 0.4446875, 'InflationRate': -0.0740625, 'CorePCE': 0.0643125}\n"
          ]
        }
      ]
    },
    {
      "cell_type": "code",
      "source": [
        "# Feature Importance (Sklearn Implementation)\n",
        "np.random.seed(17)\n",
        "perm_importances = permutation_importance(tree, X_test, y_test, scoring = \"accuracy\", n_repeats = 1000, random_state = 17)\n",
        "print(\"Average Feature Importance: \" + str(perm_importances[\"importances_mean\"]))\n",
        "print(\"Standard Deviation of Feature Importance: \" + str(perm_importances[\"importances_std\"]))"
      ],
      "metadata": {
        "colab": {
          "base_uri": "https://localhost:8080/"
        },
        "id": "_4J1tl-g9ahf",
        "outputId": "2f6a008f-67e1-45fa-bfe8-9c320f2a172f"
      },
      "execution_count": null,
      "outputs": [
        {
          "output_type": "stream",
          "name": "stdout",
          "text": [
            "Average Feature Importance: [ 0.0010625  0.4468125 -0.0730625  0.05925  ]\n",
            "Standard Deviation of Feature Importance: [0.03129441 0.09598989 0.05647313 0.05766606]\n"
          ]
        }
      ]
    },
    {
      "cell_type": "markdown",
      "source": [
        "Covid/Post-Covid Era"
      ],
      "metadata": {
        "id": "RQbTTMBHBbMX"
      }
    },
    {
      "cell_type": "code",
      "source": [
        "# Getting training and testing data\n",
        "np.random.seed(17)\n",
        "X_train, y_train, X_test, y_test = train_test_splits(X_covid, y_covid, 0.3)\n",
        "\n",
        "# Training\n",
        "tree = DecisionTreeClassifier(criterion = \"entropy\", max_depth = 10, ccp_alpha = 0.005, random_state = 17, min_impurity_decrease=0.000001).fit(X_train, y_train)\n",
        "plot_tree(tree)\n",
        "plt.show()\n",
        "\n",
        "# Testing\n",
        "preds = tree.predict(X_test)\n",
        "truths = y_test\n",
        "\n",
        "\n",
        "# Evaluation\n",
        "labels = list(pd.Series(pd.Series(groups_covid).unique()).sort_values())\n",
        "\n",
        "new_labels = []\n",
        "for klass in labels:\n",
        "  if klass in list(y_train):\n",
        "    new_labels.append(klass)\n",
        "\n",
        "print(lab_conf_matrix(truths, preds, new_labels))\n",
        "\n",
        "\n",
        "# Accuracy\n",
        "print(\"Accuracy Score: \" + str(accuracy_score(truths, preds)))"
      ],
      "metadata": {
        "id": "1CL5Iyi5BbMY",
        "colab": {
          "base_uri": "https://localhost:8080/",
          "height": 352
        },
        "outputId": "69bccd7f-8d7e-451b-e2e2-b8dcdf912232"
      },
      "execution_count": null,
      "outputs": [
        {
          "output_type": "display_data",
          "data": {
            "text/plain": [
              "<Figure size 432x288 with 1 Axes>"
            ],
            "image/png": "[encoded data removed]"
          },
          "metadata": {
            "needs_background": "light"
          }
        },
        {
          "output_type": "stream",
          "name": "stdout",
          "text": [
            "             [0.05, 0.07) [0.07, 0.08) [0.08, 0.33) [0.33, 3.08]\n",
            "[0.05, 0.07)            2            1            1            0\n",
            "[0.07, 0.08)            1            1            1            0\n",
            "[0.08, 0.33)            0            0            3            0\n",
            "[0.33, 3.08]            0            0            0            2\n",
            "Accuracy Score: 0.6666666666666666\n"
          ]
        }
      ]
    },
    {
      "cell_type": "code",
      "source": [
        "# Feature Importance (Lab Implementation)\n",
        "np.random.seed(17)\n",
        "print(feat_importance(tree, X_train, X_test, y_test, preds))"
      ],
      "metadata": {
        "id": "Yrt4fe5sBbMY",
        "colab": {
          "base_uri": "https://localhost:8080/"
        },
        "outputId": "c1c5c1cc-d374-46c3-cd75-0db95e0c0f53"
      },
      "execution_count": null,
      "outputs": [
        {
          "output_type": "stream",
          "name": "stdout",
          "text": [
            "{'RealGDP ': 0.0, 'UnemploymentRate': 0.2659166666666668, 'InflationRate': 0.15225000000000016, 'CorePCE': 0.15933333333333322}\n"
          ]
        }
      ]
    },
    {
      "cell_type": "code",
      "source": [
        "# Feature Importance (Sklearn Implementation)\n",
        "np.random.seed(17)\n",
        "perm_importances = permutation_importance(tree, X_test, y_test, scoring = \"accuracy\", n_repeats = 1000, random_state = 17)\n",
        "print(\"Average Feature Importance: \" + str(perm_importances[\"importances_mean\"]))\n",
        "print(\"Standard Deviation of Feature Importance: \" + str(perm_importances[\"importances_std\"]))"
      ],
      "metadata": {
        "colab": {
          "base_uri": "https://localhost:8080/"
        },
        "id": "zJRZoOLH9fC6",
        "outputId": "5ea968bd-7608-4b8a-8379-c3886b450bad"
      },
      "execution_count": null,
      "outputs": [
        {
          "output_type": "stream",
          "name": "stdout",
          "text": [
            "Average Feature Importance: [0.         0.26108333 0.15491667 0.1635    ]\n",
            "Standard Deviation of Feature Importance: [0.         0.09080317 0.07251049 0.09791422]\n"
          ]
        }
      ]
    },
    {
      "cell_type": "markdown",
      "source": [
        "The overall model places great importance on all four economic features. Specifically, the order of priority is CorePCE, InflationRate, Unemployment Rate, and RealGDP. All but RealGDP appear to be extremely important features, losing at least 25 percentage points of accuracy when one of these features get their values shuffled.\n",
        "\n",
        "\n",
        "The Stagflation era model places great importance on unemployment rate and inflation rate, but it places little to no importance on the other features. This is consistent with what we know about the era, where the odd interaction between inflation and unemployment was heavily scrutenized.\n",
        "\n",
        "The Reagan era model places great importance on core PCE and unemployment rate, but it places little to no importance on the other features. This neither confirms nor contradicts our generally-understood ideas about the era.\n",
        "\n",
        "The Clinton era model places great importance on unemployment rate, but it places little to no importance on the other features. This is extremely fascinating, since it implies that the Clinton administration was almost exclusively focused on the USA's unemployment rate when setting their federal interest rates.\n",
        "\n",
        "The War-on-Terror era model places immense importance on umemployment rate, moderate importance on inflation rate, and little importance on the other features. This suggests that the Bush Jr. administration was somewhat similar to the stagflation era in its focus when setting federal interest rates.\n",
        "\n",
        "The Recession era model places great importance on inflation rate, moderate importance on real GDP, some importance on unemployment rate, and little importance on Core PCE. This, along with the relatively high standard deviations that these features have, suggests that the Obama administration may have taken a unique approach when setting their federal interest rates, relying on a mix of many economic features.\n",
        "\n",
        "The Trump era model places immense importance on Unemployment Rate, little importance on CorePCE, and no importance on RealGDP and InflationRate. This suggests that the Trump administration mostly based its federal interest rate decisions on unemployment rate, being consistent with Mr. Trump's rhetoric about helping Americans obtain jobs.\n",
        "\n",
        "The Covid/Post-Covid era model places great importance on Unemployment Rate, moderate importance on inflation rate and core PCE, and no importance on real GDP (being exactly 0). It should be noted that this era only has twelve months of data due to its recency, but predictions are relatively accurate (achieving 66% testing accuracy when random guessing would only achieve roughly 25% to 35%). The pandemic is known to have had a severe, negative impact on unemployment, so it is understandable why federal interest rate decisions might be heavily-influenced by it. Similarly, inflation rate and core PCE can be associated with quality of life, so it is reasonable why these are also important features. The relatively high standard deviations that these features have supports the possibility that they were, overall, strongly considered by the government. By contrast, real GDP has a less direct impact on people's lives than the other features, so it is understandable why the government might neglect it in favor of those other features. Additionally, because of Federeal Reserve dual mandate and recent unprecedented acceleration in the rate of inflation, the Federal Reserve has been keyed in on NFP and employement reports to allow them to aggresively raise the EFFR without causing a severe recession (Stagflation implications) because of the currently tight labor market. \n",
        "\n",
        "\n",
        "As a general trend over time (from 1973 to 2022), interest rates go from being primarily 7.1% to 19.1% (from 1973 through 1992), to being primarily 5% to 7.1% (from 1993 to 2000), to being primarily 1.2% to 5% (from 2001 through 2007), to being primarily 0% to 1.2% (from 2008 through 2022). They generally decrease over time. Interestingly, the changes in the \"majority\" interest rate range correspond with changes in the president's political party (although, this may be a coincidence). It is also worth noting that accuracies are consistently around 55% to 70% for the decision trees fit to these time period datasets, which may be lower than the original dataset due to smaller sample sizes and lack of dedicated hyperparameter tuning."
      ],
      "metadata": {
        "id": "_zktpd4Zcys7"
      }
    },
    {
      "cell_type": "markdown",
      "source": [
        "Visualizing Changes in Average EFFR Overtime"
      ],
      "metadata": {
        "id": "TGeLyaqAH1-q"
      }
    },
    {
      "cell_type": "code",
      "source": [
        "# Getting Year Labels\n",
        "  # (Assumes \"YearMonth\" Data Format, where year is 4 digits long)\n",
        "years = []\n",
        "for i in fin_df.index:\n",
        "  y = i[:4]\n",
        "  if y not in years:\n",
        "    years.append(y)\n",
        "years = np.array(years)\n",
        "print(years)"
      ],
      "metadata": {
        "colab": {
          "base_uri": "https://localhost:8080/"
        },
        "id": "BxoNwLINKxXo",
        "outputId": "1df00448-3481-467f-f358-dd6f7d5b135b"
      },
      "execution_count": null,
      "outputs": [
        {
          "output_type": "stream",
          "name": "stdout",
          "text": [
            "['1973' '1974' '1975' '1976' '1977' '1978' '1979' '1980' '1981' '1982'\n",
            " '1983' '1984' '1985' '1986' '1987' '1988' '1989' '1990' '1991' '1992'\n",
            " '1993' '1994' '1995' '1996' '1997' '1998' '1999' '2000' '2001' '2002'\n",
            " '2003' '2004' '2005' '2006' '2007' '2008' '2009' '2010' '2011' '2012'\n",
            " '2013' '2014' '2015' '2016' '2017' '2018' '2019' '2020' '2021' '2022']\n"
          ]
        }
      ]
    },
    {
      "cell_type": "code",
      "source": [
        "# Producing plot of EFFR over time\n",
        "plt.plot(fin_df.index, fin_df[\"EffectiveFederalFundsRate\"])\n",
        "plt.xticks(ticks=np.arange(0, len(fin_df), step=12*5), labels=years[0:len(years):5])\n",
        "plt.title(\"United States Monthly Effective Federal Funds Rate Over Time\")\n",
        "plt.xlabel(\"Year (Tick Mark is Located at January)\")\n",
        "plt.ylabel(\"Effective Federal Funds Rate (%)\")\n",
        "plt.show()"
      ],
      "metadata": {
        "colab": {
          "base_uri": "https://localhost:8080/",
          "height": 295
        },
        "id": "UbakjL4fIFY8",
        "outputId": "6b4edf38-b01e-4933-a97a-15b465350a76"
      },
      "execution_count": null,
      "outputs": [
        {
          "output_type": "display_data",
          "data": {
            "text/plain": [
              "<Figure size 432x288 with 1 Axes>"
            ],
            "image/png": "[encoded data removed]"
          },
          "metadata": {
            "needs_background": "light"
          }
        }
      ]
    }
  ]
}